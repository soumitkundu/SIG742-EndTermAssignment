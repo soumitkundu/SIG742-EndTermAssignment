{
  "nbformat": 4,
  "nbformat_minor": 0,
  "metadata": {
    "colab": {
      "provenance": [],
      "gpuType": "T4",
      "authorship_tag": "ABX9TyNGpFOXLECIhdPxNBiLbpf1",
      "include_colab_link": true
    },
    "kernelspec": {
      "name": "python3",
      "display_name": "Python 3"
    },
    "language_info": {
      "name": "python"
    },
    "accelerator": "GPU"
  },
  "cells": [
    {
      "cell_type": "markdown",
      "metadata": {
        "id": "view-in-github",
        "colab_type": "text"
      },
      "source": [
        "<a href=\"https://colab.research.google.com/github/soumitkundu/SIG742-EndTermAssignment/blob/main/SIG742Task2-Group-13.ipynb\" target=\"_parent\"><img src=\"https://colab.research.google.com/assets/colab-badge.svg\" alt=\"Open In Colab\"/></a>"
      ]
    },
    {
      "cell_type": "markdown",
      "source": [
        "**Student ID:** _225738919_\n",
        "\n",
        "**Student Name:** _Soumit Kundu_\n",
        "\n",
        "**Workshop / Lab Session Time:** Mon / Tue / Wed / Thu / Fri"
      ],
      "metadata": {
        "id": "caXaUH9eRJBg"
      }
    },
    {
      "cell_type": "markdown",
      "source": [
        "# Part 1: **Data Acquisition and Manipulation**"
      ],
      "metadata": {
        "id": "yMIVXppXR7Wy"
      }
    },
    {
      "cell_type": "markdown",
      "source": [
        "The (business_review_submission.zip) data used for this part could be found in [here](https://github.com/tulip-lab/sit742/blob/develop/Jupyter/data/business_review_submission.zip). There are two files in the data. The first one is about the business review submission with many companies. For each of the row, the review submission is provided with relevant information such as user id, time, name and many others. The second one is the meta information of the business and the two data could be joined with gmap_id. You will need to use spark to **first read the unzipped (csv) review data for starting** and later join the meta review business data on dataframe (pandas or spark). You could find the code on reading csv data with Spark from [M04G](https://github.com/tulip-lab/sit742/blob/develop/Jupyter/M04-DataManipulation/M04G-SparkSQL.ipynb). In some of the tasks, if the question is not specifically asking to use spark, you could use both pandas and numpy."
      ],
      "metadata": {
        "id": "cQm6tOhDSku-"
      }
    },
    {
      "cell_type": "markdown",
      "source": [
        "### Answer 1.1"
      ],
      "metadata": {
        "id": "ToQj2ngBSISG"
      }
    },
    {
      "cell_type": "markdown",
      "source": [
        "**Question:**\n",
        "\n",
        "Using PySpark to do some data wrangling process, so that:\n",
        "> **1.1.1** For the none or null in text column, change it to 'no review'.\n",
        "\n",
        "> **1.1.2** Process the content in time column, and convert the strings from time to yyyy-mm-dd format in the new column as newtime and show the first 5 rows."
      ],
      "metadata": {
        "id": "LIMKq0ekSTRS"
      }
    },
    {
      "cell_type": "markdown",
      "source": [
        "**Installing Required Libraries**"
      ],
      "metadata": {
        "id": "IL6c6HkhIy04"
      }
    },
    {
      "cell_type": "code",
      "execution_count": 1,
      "metadata": {
        "id": "DWV9cf_PQmZj",
        "outputId": "82608b9a-5ad9-4d0d-fc49-cbe8902a26ef",
        "colab": {
          "base_uri": "https://localhost:8080/"
        }
      },
      "outputs": [
        {
          "output_type": "stream",
          "name": "stdout",
          "text": [
            "\r0% [Working]\r            \rHit:1 https://cli.github.com/packages stable InRelease\n",
            "Get:2 https://cloud.r-project.org/bin/linux/ubuntu jammy-cran40/ InRelease [3,632 B]\n",
            "Get:3 https://developer.download.nvidia.com/compute/cuda/repos/ubuntu2204/x86_64  InRelease [1,581 B]\n",
            "Hit:4 http://archive.ubuntu.com/ubuntu jammy InRelease\n",
            "Get:5 https://r2u.stat.illinois.edu/ubuntu jammy InRelease [6,555 B]\n",
            "Get:6 https://developer.download.nvidia.com/compute/cuda/repos/ubuntu2204/x86_64  Packages [2,064 kB]\n",
            "Get:7 http://archive.ubuntu.com/ubuntu jammy-updates InRelease [128 kB]\n",
            "Get:8 http://security.ubuntu.com/ubuntu jammy-security InRelease [129 kB]\n",
            "Hit:9 https://ppa.launchpadcontent.net/deadsnakes/ppa/ubuntu jammy InRelease\n",
            "Get:10 https://r2u.stat.illinois.edu/ubuntu jammy/main amd64 Packages [2,807 kB]\n",
            "Hit:11 https://ppa.launchpadcontent.net/graphics-drivers/ppa/ubuntu jammy InRelease\n",
            "Hit:12 https://ppa.launchpadcontent.net/ubuntugis/ppa/ubuntu jammy InRelease\n",
            "Get:13 http://archive.ubuntu.com/ubuntu jammy-backports InRelease [127 kB]\n",
            "Get:14 https://r2u.stat.illinois.edu/ubuntu jammy/main all Packages [9,313 kB]\n",
            "Get:15 http://archive.ubuntu.com/ubuntu jammy-updates/universe amd64 Packages [1,580 kB]\n",
            "Get:16 http://security.ubuntu.com/ubuntu jammy-security/universe amd64 Packages [1,274 kB]\n",
            "Get:17 http://archive.ubuntu.com/ubuntu jammy-updates/main amd64 Packages [3,732 kB]\n",
            "Get:18 http://security.ubuntu.com/ubuntu jammy-security/main amd64 Packages [3,371 kB]\n",
            "Get:19 http://archive.ubuntu.com/ubuntu jammy-updates/restricted amd64 Packages [5,899 kB]\n",
            "Fetched 30.4 MB in 3s (10.5 MB/s)\n",
            "Reading package lists... Done\n",
            "W: Skipping acquire of configured file 'main/source/Sources' as repository 'https://r2u.stat.illinois.edu/ubuntu jammy InRelease' does not seem to provide it (sources.list entry misspelt?)\n"
          ]
        }
      ],
      "source": [
        "#update local version of the package catalog\n",
        "!apt-get update\n",
        "# install Java8\n",
        "!apt-get install openjdk-8-jdk-headless -qq > /dev/null\n",
        "# download spark 3.3.3\n",
        "# !wget -q https://archive.apache.org/dist/spark/spark-3.3.3/spark-3.3.3-bin-hadoop3.tgz\n",
        "# # unzip it\n",
        "# !tar xf spark-3.3.3-bin-hadoop3.tgz\n",
        "# install findspark\n",
        "!pip install -q findspark"
      ]
    },
    {
      "cell_type": "code",
      "source": [
        "import os\n",
        "\n",
        "import findspark\n",
        "findspark.init()"
      ],
      "metadata": {
        "id": "YW3Ze7uLT47r"
      },
      "execution_count": 2,
      "outputs": []
    },
    {
      "cell_type": "code",
      "source": [
        "import pandas as pd\n",
        "import numpy as np\n",
        "\n",
        "import matplotlib.pyplot as plt\n",
        "import seaborn as sns\n",
        "\n",
        "%matplotlib inline\n",
        "\n",
        "import warnings\n",
        "warnings.filterwarnings('ignore')"
      ],
      "metadata": {
        "id": "6yhYyHyfeKKW"
      },
      "execution_count": 3,
      "outputs": []
    },
    {
      "cell_type": "code",
      "source": [
        "import pyspark\n",
        "pyspark.__version__"
      ],
      "metadata": {
        "id": "ARirSomSepoB",
        "outputId": "8355f493-ebcc-402c-9b6f-3c01d61cd038",
        "colab": {
          "base_uri": "https://localhost:8080/",
          "height": 36
        }
      },
      "execution_count": null,
      "outputs": [
        {
          "output_type": "execute_result",
          "data": {
            "text/plain": [
              "'3.5.1'"
            ],
            "application/vnd.google.colaboratory.intrinsic+json": {
              "type": "string"
            }
          },
          "metadata": {},
          "execution_count": 5
        }
      ]
    },
    {
      "cell_type": "code",
      "source": [
        "# Importing spark sql functions\n",
        "from pyspark.sql.functions import *"
      ],
      "metadata": {
        "id": "2DM9pI7niI14"
      },
      "execution_count": 4,
      "outputs": []
    },
    {
      "cell_type": "code",
      "source": [
        "# Importing SparkSession as our Spark version is 3.5.1\n",
        "from pyspark.sql import SparkSession\n",
        "\n",
        "# Initializing SparkSession and crearing the app\n",
        "spark = SparkSession.builder.appName('SIG742').getOrCreate()\n",
        "spark"
      ],
      "metadata": {
        "id": "WbMMuLC_gIwJ",
        "outputId": "59a7840b-8ab6-4c20-c8a3-44181781b260",
        "colab": {
          "base_uri": "https://localhost:8080/",
          "height": 219
        }
      },
      "execution_count": 5,
      "outputs": [
        {
          "output_type": "execute_result",
          "data": {
            "text/plain": [
              "<pyspark.sql.session.SparkSession at 0x7c13c1eafa10>"
            ],
            "text/html": [
              "\n",
              "            <div>\n",
              "                <p><b>SparkSession - in-memory</b></p>\n",
              "                \n",
              "        <div>\n",
              "            <p><b>SparkContext</b></p>\n",
              "\n",
              "            <p><a href=\"http://f77e8a82372d:4040\">Spark UI</a></p>\n",
              "\n",
              "            <dl>\n",
              "              <dt>Version</dt>\n",
              "                <dd><code>v3.5.1</code></dd>\n",
              "              <dt>Master</dt>\n",
              "                <dd><code>local[*]</code></dd>\n",
              "              <dt>AppName</dt>\n",
              "                <dd><code>SIG742</code></dd>\n",
              "            </dl>\n",
              "        </div>\n",
              "        \n",
              "            </div>\n",
              "        "
            ]
          },
          "metadata": {},
          "execution_count": 5
        }
      ]
    },
    {
      "cell_type": "code",
      "source": [
        "# connect to google colab drive\n",
        "from google.colab import drive\n",
        "drive.mount(\"/content/gdrive\")\n",
        "\n",
        "# Initializing folder path where our datasets are stored\n",
        "drive_path = '/content/gdrive/MyDrive/MDS-Datasets/SIG742/business_review_submission'"
      ],
      "metadata": {
        "id": "sVfQbeOJT42g",
        "outputId": "5bbc1fd0-2ecf-4750-940e-04952d4eef93",
        "colab": {
          "base_uri": "https://localhost:8080/"
        }
      },
      "execution_count": 6,
      "outputs": [
        {
          "output_type": "stream",
          "name": "stdout",
          "text": [
            "Mounted at /content/gdrive\n"
          ]
        }
      ]
    },
    {
      "cell_type": "code",
      "source": [
        "# Reading the review dataset\n",
        "df_review = spark.read.csv(drive_path + \"/review.csv\", header=True)\n",
        "df_review"
      ],
      "metadata": {
        "id": "a2X9P6rthWDK",
        "outputId": "eb34c956-89fe-4c16-88cf-fd7eb5b56820",
        "colab": {
          "base_uri": "https://localhost:8080/"
        }
      },
      "execution_count": 7,
      "outputs": [
        {
          "output_type": "execute_result",
          "data": {
            "text/plain": [
              "DataFrame[user_id: string, name: string, time: string, rating: string, text: string, pics: string, resp: string, gmap_id: string]"
            ]
          },
          "metadata": {},
          "execution_count": 7
        }
      ]
    },
    {
      "cell_type": "code",
      "source": [
        "df_review.show(5)"
      ],
      "metadata": {
        "id": "hD7Cj_htJfOS",
        "outputId": "74094fd4-b91a-4bab-ed37-b48f683ec646",
        "colab": {
          "base_uri": "https://localhost:8080/"
        }
      },
      "execution_count": 8,
      "outputs": [
        {
          "output_type": "stream",
          "name": "stdout",
          "text": [
            "+--------------------+--------------------+-------------+--------------------+--------------------+----+----+--------------------+\n",
            "|             user_id|                name|         time|              rating|                text|pics|resp|             gmap_id|\n",
            "+--------------------+--------------------+-------------+--------------------+--------------------+----+----+--------------------+\n",
            "|1.091298048426862...|          Nicki Gore|1566331951619|                   5|We always stay he...|NULL|NULL|0x56b646ed2220b77...|\n",
            "|1.132409264057589...|       Allen Ratliff|1504917982385|                   5|Great campground ...|NULL|NULL|0x56b646ed2220b77...|\n",
            "|1.130448378911412...|   Jonathan Tringali|1474765901185|                   4|We tent camped he...|NULL|NULL|                NULL|\n",
            "|There is a bath h...| 2 restrooms (sin...|       toilet| shower). The hot...| but they lack ve...|NULL|NULL|                NULL|\n",
            "|Wi-Fi didn't reac...|                NULL|         NULL|0x56b646ed2220b77...|                NULL|NULL|NULL|                NULL|\n",
            "+--------------------+--------------------+-------------+--------------------+--------------------+----+----+--------------------+\n",
            "only showing top 5 rows\n",
            "\n"
          ]
        }
      ]
    },
    {
      "cell_type": "markdown",
      "source": [
        "**1.1.1** For the none or null in text column, change it to 'no review'."
      ],
      "metadata": {
        "id": "oeBZ5R6kjHCM"
      }
    },
    {
      "cell_type": "code",
      "source": [
        "null_review_count = df_review.filter(col('text').isNull()).count()\n",
        "print(f\"None or Null count for the 'text' column is: {null_review_count}\")"
      ],
      "metadata": {
        "id": "BTfM7QcziZa7",
        "outputId": "0fe0dac6-8b4b-49f4-bb94-5fe54f5ecddf",
        "colab": {
          "base_uri": "https://localhost:8080/"
        }
      },
      "execution_count": 9,
      "outputs": [
        {
          "output_type": "stream",
          "name": "stdout",
          "text": [
            "None or Null count for the 'text' column is: 249931\n"
          ]
        }
      ]
    },
    {
      "cell_type": "code",
      "source": [
        "df_review_filtered = df_review.fillna('no review', subset=['text'])"
      ],
      "metadata": {
        "id": "LZTt0I-eiWU1"
      },
      "execution_count": 10,
      "outputs": []
    },
    {
      "cell_type": "code",
      "source": [
        "no_review_count = df_review_filtered.filter(df_review_filtered['text'] == 'no review').count()\n",
        "print(f\"Count of 'no review' is: {no_review_count}\")"
      ],
      "metadata": {
        "id": "GPl3RXwTJfGl",
        "outputId": "cdf617f0-133a-431c-84dc-e908b75f972a",
        "colab": {
          "base_uri": "https://localhost:8080/"
        }
      },
      "execution_count": 11,
      "outputs": [
        {
          "output_type": "stream",
          "name": "stdout",
          "text": [
            "Count of 'no review' is: 249931\n"
          ]
        }
      ]
    },
    {
      "cell_type": "code",
      "source": [],
      "metadata": {
        "id": "CyVBcinojS-C"
      },
      "execution_count": null,
      "outputs": []
    },
    {
      "cell_type": "markdown",
      "source": [
        "**1.1.2** Process the content in time column, and convert the strings from time to yyyy-mm-dd format in the new column as newtime and show the first 5 rows."
      ],
      "metadata": {
        "id": "cNIKQ-M7jUvG"
      }
    },
    {
      "cell_type": "code",
      "source": [
        "df_converted = df_review_filtered.withColumn(\n",
        "    'newtime',\n",
        "    to_date(from_unixtime(col('time').cast('bigint') / 1000))\n",
        ")\n",
        "df_converted.show(5)"
      ],
      "metadata": {
        "id": "pr93qGW9T4zv",
        "outputId": "fb5d2efb-edde-49c6-deec-a3f872fb2b95",
        "colab": {
          "base_uri": "https://localhost:8080/"
        }
      },
      "execution_count": 12,
      "outputs": [
        {
          "output_type": "stream",
          "name": "stdout",
          "text": [
            "+--------------------+--------------------+-------------+--------------------+--------------------+----+----+--------------------+----------+\n",
            "|             user_id|                name|         time|              rating|                text|pics|resp|             gmap_id|   newtime|\n",
            "+--------------------+--------------------+-------------+--------------------+--------------------+----+----+--------------------+----------+\n",
            "|1.091298048426862...|          Nicki Gore|1566331951619|                   5|We always stay he...|NULL|NULL|0x56b646ed2220b77...|2019-08-20|\n",
            "|1.132409264057589...|       Allen Ratliff|1504917982385|                   5|Great campground ...|NULL|NULL|0x56b646ed2220b77...|2017-09-09|\n",
            "|1.130448378911412...|   Jonathan Tringali|1474765901185|                   4|We tent camped he...|NULL|NULL|                NULL|2016-09-25|\n",
            "|There is a bath h...| 2 restrooms (sin...|       toilet| shower). The hot...| but they lack ve...|NULL|NULL|                NULL|      NULL|\n",
            "|Wi-Fi didn't reac...|                NULL|         NULL|0x56b646ed2220b77...|           no review|NULL|NULL|                NULL|      NULL|\n",
            "+--------------------+--------------------+-------------+--------------------+--------------------+----+----+--------------------+----------+\n",
            "only showing top 5 rows\n",
            "\n"
          ]
        }
      ]
    },
    {
      "cell_type": "code",
      "source": [],
      "metadata": {
        "id": "4p0IXPfVktyQ"
      },
      "execution_count": null,
      "outputs": []
    },
    {
      "cell_type": "markdown",
      "source": [
        "### Answer 1.2"
      ],
      "metadata": {
        "id": "Zdk8ZJ8YT5i1"
      }
    },
    {
      "cell_type": "markdown",
      "source": [
        "**Question:**\n",
        "\n",
        "Find out the information for gmap_id on the reviews. In order to achieve the above, some wrangling work is required to be done:\n",
        "> **1.2.1** Using pyspark to calculate the number of reviews per each unique gmap_id and save as float format in pyspark dataframe to show the top 5 rows.\n",
        "\n",
        "> **1.2.2** Transform the current pyspark dataframe to pandas dataframe (named as df) and create the column reivew_time with the information of review time on hours level. Print your df pandas dataframe with top 5 rows after creating the column review_time.\n",
        "\n",
        "> **1.2.3** Using matplotlib or seaborn to draw some (two or more if possible) visualizations on the relationship between gmap_id and reivew_time. You could explore for example, what is the time people usually review? How many business is reviewed in the morning time etc. Please also discuss the insights you are finding with your visualizations in the markdown cell. Please also include your findings and visualizations in the report."
      ],
      "metadata": {
        "id": "inEfSH71T9SO"
      }
    },
    {
      "cell_type": "code",
      "source": [],
      "metadata": {
        "id": "qbmZTRsDT8W5"
      },
      "execution_count": null,
      "outputs": []
    },
    {
      "cell_type": "markdown",
      "source": [
        "**1.2.1** Using pyspark to calculate the number of reviews per each unique gmap_id and save as float format in pyspark dataframe to show the top 5 rows."
      ],
      "metadata": {
        "id": "5vqQoNHDo2Ip"
      }
    },
    {
      "cell_type": "code",
      "source": [
        "gmap_wise_reviews = df_converted.groupBy(\"gmap_id\")\\\n",
        "    .agg(countDistinct(\"text\")\\\n",
        "    .cast(\"float\").alias(\"gmap_id_unique_reviews\"))\\\n",
        "    .orderBy(col(\"gmap_id_unique_reviews\").desc())\n",
        "\n",
        "gmap_wise_reviews.show(5)"
      ],
      "metadata": {
        "id": "tGjKz6h0fIaL",
        "outputId": "7920e8bd-6d17-40fa-ab75-96b75dd1c7f2",
        "colab": {
          "base_uri": "https://localhost:8080/"
        }
      },
      "execution_count": 13,
      "outputs": [
        {
          "output_type": "stream",
          "name": "stdout",
          "text": [
            "+--------------------+----------------------+\n",
            "|             gmap_id|gmap_id_unique_reviews|\n",
            "+--------------------+----------------------+\n",
            "|                NULL|               17910.0|\n",
            "|0x56c897b9ce6000d...|                1516.0|\n",
            "|0x56c8965ee2fb87a...|                 979.0|\n",
            "|0x56c899d05892048...|                 943.0|\n",
            "|0x56c897c63697ee3...|                 935.0|\n",
            "+--------------------+----------------------+\n",
            "only showing top 5 rows\n",
            "\n"
          ]
        }
      ]
    },
    {
      "cell_type": "code",
      "source": [],
      "metadata": {
        "id": "roX_GiQqfIXR"
      },
      "execution_count": null,
      "outputs": []
    },
    {
      "cell_type": "markdown",
      "source": [
        "**1.2.2** Transform the current pyspark dataframe to pandas dataframe (named as df) and create the column reivew_time with the information of review time on hours level. Print your df pandas dataframe with top 5 rows after creating the column review_time."
      ],
      "metadata": {
        "id": "kU82BRUxpElT"
      }
    },
    {
      "cell_type": "code",
      "source": [
        "# Convert Unix timestamp (milliseconds) to seconds and then to datetime\n",
        "df_converted = df_converted.withColumn(\"reivew_datetime\", from_unixtime(col(\"time\").cast('bigint') / 1000))\n",
        "\n",
        "# Extract hour from the converted datetime\n",
        "df_converted = df_converted.withColumn(\"reivew_time\", hour(col(\"reivew_datetime\")))\n",
        "\n",
        "# Convert to Pandas DataFrame\n",
        "df = df_converted.toPandas()\n",
        "\n",
        "# Print top 5 rows from the Pandas DataFrame\n",
        "df.head()"
      ],
      "metadata": {
        "id": "DCQ8TjM3fIMw",
        "outputId": "bee188f6-682c-4f5e-f1c9-aa4f7247889d",
        "colab": {
          "base_uri": "https://localhost:8080/",
          "height": 538
        }
      },
      "execution_count": 15,
      "outputs": [
        {
          "output_type": "execute_result",
          "data": {
            "text/plain": [
              "                                             user_id  \\\n",
              "0                              1.091298048426862e+20   \n",
              "1                             1.1324092640575896e+20   \n",
              "2                             1.1304483789114126e+20   \n",
              "3  There is a bath house with 1 set of coin opera...   \n",
              "4  Wi-Fi didn't reach our site on the back edge o...   \n",
              "\n",
              "                                                name           time  \\\n",
              "0                                         Nicki Gore  1566331951619   \n",
              "1                                      Allen Ratliff  1504917982385   \n",
              "2                                  Jonathan Tringali  1474765901185   \n",
              "3   2 restrooms (sink toilet) and 2 shower rooms ...         toilet   \n",
              "4                                               None           None   \n",
              "\n",
              "                                              rating  \\\n",
              "0                                                  5   \n",
              "1                                                  5   \n",
              "2                                                  4   \n",
              "3   shower). The hot water will run out after a f...   \n",
              "4              0x56b646ed2220b77f:0xd8975e316de80952   \n",
              "\n",
              "                                                text  pics  resp  \\\n",
              "0  We always stay here when in Valdez for silver ...  None  None   \n",
              "1  Great campground for the price. Nice hot unlim...  None  None   \n",
              "2  We tent camped here for 2 nights while explori...  None  None   \n",
              "3   but they lack vent fans to remove moisture so...  None  None   \n",
              "4                                          no review  None  None   \n",
              "\n",
              "                                 gmap_id     newtime      reivew_datetime  \\\n",
              "0  0x56b646ed2220b77f:0xd8975e316de80952  2019-08-20  2019-08-20 20:12:31   \n",
              "1  0x56b646ed2220b77f:0xd8975e316de80952  2017-09-09  2017-09-09 00:46:22   \n",
              "2                                   None  2016-09-25  2016-09-25 01:11:41   \n",
              "3                                   None        None                 None   \n",
              "4                                   None        None                 None   \n",
              "\n",
              "   reivew_time  \n",
              "0         20.0  \n",
              "1          0.0  \n",
              "2          1.0  \n",
              "3          NaN  \n",
              "4          NaN  "
            ],
            "text/html": [
              "\n",
              "  <div id=\"df-5914037f-17b2-4eab-a6da-6ca0aeb60060\" class=\"colab-df-container\">\n",
              "    <div>\n",
              "<style scoped>\n",
              "    .dataframe tbody tr th:only-of-type {\n",
              "        vertical-align: middle;\n",
              "    }\n",
              "\n",
              "    .dataframe tbody tr th {\n",
              "        vertical-align: top;\n",
              "    }\n",
              "\n",
              "    .dataframe thead th {\n",
              "        text-align: right;\n",
              "    }\n",
              "</style>\n",
              "<table border=\"1\" class=\"dataframe\">\n",
              "  <thead>\n",
              "    <tr style=\"text-align: right;\">\n",
              "      <th></th>\n",
              "      <th>user_id</th>\n",
              "      <th>name</th>\n",
              "      <th>time</th>\n",
              "      <th>rating</th>\n",
              "      <th>text</th>\n",
              "      <th>pics</th>\n",
              "      <th>resp</th>\n",
              "      <th>gmap_id</th>\n",
              "      <th>newtime</th>\n",
              "      <th>reivew_datetime</th>\n",
              "      <th>reivew_time</th>\n",
              "    </tr>\n",
              "  </thead>\n",
              "  <tbody>\n",
              "    <tr>\n",
              "      <th>0</th>\n",
              "      <td>1.091298048426862e+20</td>\n",
              "      <td>Nicki Gore</td>\n",
              "      <td>1566331951619</td>\n",
              "      <td>5</td>\n",
              "      <td>We always stay here when in Valdez for silver ...</td>\n",
              "      <td>None</td>\n",
              "      <td>None</td>\n",
              "      <td>0x56b646ed2220b77f:0xd8975e316de80952</td>\n",
              "      <td>2019-08-20</td>\n",
              "      <td>2019-08-20 20:12:31</td>\n",
              "      <td>20.0</td>\n",
              "    </tr>\n",
              "    <tr>\n",
              "      <th>1</th>\n",
              "      <td>1.1324092640575896e+20</td>\n",
              "      <td>Allen Ratliff</td>\n",
              "      <td>1504917982385</td>\n",
              "      <td>5</td>\n",
              "      <td>Great campground for the price. Nice hot unlim...</td>\n",
              "      <td>None</td>\n",
              "      <td>None</td>\n",
              "      <td>0x56b646ed2220b77f:0xd8975e316de80952</td>\n",
              "      <td>2017-09-09</td>\n",
              "      <td>2017-09-09 00:46:22</td>\n",
              "      <td>0.0</td>\n",
              "    </tr>\n",
              "    <tr>\n",
              "      <th>2</th>\n",
              "      <td>1.1304483789114126e+20</td>\n",
              "      <td>Jonathan Tringali</td>\n",
              "      <td>1474765901185</td>\n",
              "      <td>4</td>\n",
              "      <td>We tent camped here for 2 nights while explori...</td>\n",
              "      <td>None</td>\n",
              "      <td>None</td>\n",
              "      <td>None</td>\n",
              "      <td>2016-09-25</td>\n",
              "      <td>2016-09-25 01:11:41</td>\n",
              "      <td>1.0</td>\n",
              "    </tr>\n",
              "    <tr>\n",
              "      <th>3</th>\n",
              "      <td>There is a bath house with 1 set of coin opera...</td>\n",
              "      <td>2 restrooms (sink toilet) and 2 shower rooms ...</td>\n",
              "      <td>toilet</td>\n",
              "      <td>shower). The hot water will run out after a f...</td>\n",
              "      <td>but they lack vent fans to remove moisture so...</td>\n",
              "      <td>None</td>\n",
              "      <td>None</td>\n",
              "      <td>None</td>\n",
              "      <td>None</td>\n",
              "      <td>None</td>\n",
              "      <td>NaN</td>\n",
              "    </tr>\n",
              "    <tr>\n",
              "      <th>4</th>\n",
              "      <td>Wi-Fi didn't reach our site on the back edge o...</td>\n",
              "      <td>None</td>\n",
              "      <td>None</td>\n",
              "      <td>0x56b646ed2220b77f:0xd8975e316de80952</td>\n",
              "      <td>no review</td>\n",
              "      <td>None</td>\n",
              "      <td>None</td>\n",
              "      <td>None</td>\n",
              "      <td>None</td>\n",
              "      <td>None</td>\n",
              "      <td>NaN</td>\n",
              "    </tr>\n",
              "  </tbody>\n",
              "</table>\n",
              "</div>\n",
              "    <div class=\"colab-df-buttons\">\n",
              "\n",
              "  <div class=\"colab-df-container\">\n",
              "    <button class=\"colab-df-convert\" onclick=\"convertToInteractive('df-5914037f-17b2-4eab-a6da-6ca0aeb60060')\"\n",
              "            title=\"Convert this dataframe to an interactive table.\"\n",
              "            style=\"display:none;\">\n",
              "\n",
              "  <svg xmlns=\"http://www.w3.org/2000/svg\" height=\"24px\" viewBox=\"0 -960 960 960\">\n",
              "    <path d=\"M120-120v-720h720v720H120Zm60-500h600v-160H180v160Zm220 220h160v-160H400v160Zm0 220h160v-160H400v160ZM180-400h160v-160H180v160Zm440 0h160v-160H620v160ZM180-180h160v-160H180v160Zm440 0h160v-160H620v160Z\"/>\n",
              "  </svg>\n",
              "    </button>\n",
              "\n",
              "  <style>\n",
              "    .colab-df-container {\n",
              "      display:flex;\n",
              "      gap: 12px;\n",
              "    }\n",
              "\n",
              "    .colab-df-convert {\n",
              "      background-color: #E8F0FE;\n",
              "      border: none;\n",
              "      border-radius: 50%;\n",
              "      cursor: pointer;\n",
              "      display: none;\n",
              "      fill: #1967D2;\n",
              "      height: 32px;\n",
              "      padding: 0 0 0 0;\n",
              "      width: 32px;\n",
              "    }\n",
              "\n",
              "    .colab-df-convert:hover {\n",
              "      background-color: #E2EBFA;\n",
              "      box-shadow: 0px 1px 2px rgba(60, 64, 67, 0.3), 0px 1px 3px 1px rgba(60, 64, 67, 0.15);\n",
              "      fill: #174EA6;\n",
              "    }\n",
              "\n",
              "    .colab-df-buttons div {\n",
              "      margin-bottom: 4px;\n",
              "    }\n",
              "\n",
              "    [theme=dark] .colab-df-convert {\n",
              "      background-color: #3B4455;\n",
              "      fill: #D2E3FC;\n",
              "    }\n",
              "\n",
              "    [theme=dark] .colab-df-convert:hover {\n",
              "      background-color: #434B5C;\n",
              "      box-shadow: 0px 1px 3px 1px rgba(0, 0, 0, 0.15);\n",
              "      filter: drop-shadow(0px 1px 2px rgba(0, 0, 0, 0.3));\n",
              "      fill: #FFFFFF;\n",
              "    }\n",
              "  </style>\n",
              "\n",
              "    <script>\n",
              "      const buttonEl =\n",
              "        document.querySelector('#df-5914037f-17b2-4eab-a6da-6ca0aeb60060 button.colab-df-convert');\n",
              "      buttonEl.style.display =\n",
              "        google.colab.kernel.accessAllowed ? 'block' : 'none';\n",
              "\n",
              "      async function convertToInteractive(key) {\n",
              "        const element = document.querySelector('#df-5914037f-17b2-4eab-a6da-6ca0aeb60060');\n",
              "        const dataTable =\n",
              "          await google.colab.kernel.invokeFunction('convertToInteractive',\n",
              "                                                    [key], {});\n",
              "        if (!dataTable) return;\n",
              "\n",
              "        const docLinkHtml = 'Like what you see? Visit the ' +\n",
              "          '<a target=\"_blank\" href=https://colab.research.google.com/notebooks/data_table.ipynb>data table notebook</a>'\n",
              "          + ' to learn more about interactive tables.';\n",
              "        element.innerHTML = '';\n",
              "        dataTable['output_type'] = 'display_data';\n",
              "        await google.colab.output.renderOutput(dataTable, element);\n",
              "        const docLink = document.createElement('div');\n",
              "        docLink.innerHTML = docLinkHtml;\n",
              "        element.appendChild(docLink);\n",
              "      }\n",
              "    </script>\n",
              "  </div>\n",
              "\n",
              "\n",
              "    <div id=\"df-d0a5539f-b6bf-4af0-92cc-697e1e2e4d43\">\n",
              "      <button class=\"colab-df-quickchart\" onclick=\"quickchart('df-d0a5539f-b6bf-4af0-92cc-697e1e2e4d43')\"\n",
              "                title=\"Suggest charts\"\n",
              "                style=\"display:none;\">\n",
              "\n",
              "<svg xmlns=\"http://www.w3.org/2000/svg\" height=\"24px\"viewBox=\"0 0 24 24\"\n",
              "     width=\"24px\">\n",
              "    <g>\n",
              "        <path d=\"M19 3H5c-1.1 0-2 .9-2 2v14c0 1.1.9 2 2 2h14c1.1 0 2-.9 2-2V5c0-1.1-.9-2-2-2zM9 17H7v-7h2v7zm4 0h-2V7h2v10zm4 0h-2v-4h2v4z\"/>\n",
              "    </g>\n",
              "</svg>\n",
              "      </button>\n",
              "\n",
              "<style>\n",
              "  .colab-df-quickchart {\n",
              "      --bg-color: #E8F0FE;\n",
              "      --fill-color: #1967D2;\n",
              "      --hover-bg-color: #E2EBFA;\n",
              "      --hover-fill-color: #174EA6;\n",
              "      --disabled-fill-color: #AAA;\n",
              "      --disabled-bg-color: #DDD;\n",
              "  }\n",
              "\n",
              "  [theme=dark] .colab-df-quickchart {\n",
              "      --bg-color: #3B4455;\n",
              "      --fill-color: #D2E3FC;\n",
              "      --hover-bg-color: #434B5C;\n",
              "      --hover-fill-color: #FFFFFF;\n",
              "      --disabled-bg-color: #3B4455;\n",
              "      --disabled-fill-color: #666;\n",
              "  }\n",
              "\n",
              "  .colab-df-quickchart {\n",
              "    background-color: var(--bg-color);\n",
              "    border: none;\n",
              "    border-radius: 50%;\n",
              "    cursor: pointer;\n",
              "    display: none;\n",
              "    fill: var(--fill-color);\n",
              "    height: 32px;\n",
              "    padding: 0;\n",
              "    width: 32px;\n",
              "  }\n",
              "\n",
              "  .colab-df-quickchart:hover {\n",
              "    background-color: var(--hover-bg-color);\n",
              "    box-shadow: 0 1px 2px rgba(60, 64, 67, 0.3), 0 1px 3px 1px rgba(60, 64, 67, 0.15);\n",
              "    fill: var(--button-hover-fill-color);\n",
              "  }\n",
              "\n",
              "  .colab-df-quickchart-complete:disabled,\n",
              "  .colab-df-quickchart-complete:disabled:hover {\n",
              "    background-color: var(--disabled-bg-color);\n",
              "    fill: var(--disabled-fill-color);\n",
              "    box-shadow: none;\n",
              "  }\n",
              "\n",
              "  .colab-df-spinner {\n",
              "    border: 2px solid var(--fill-color);\n",
              "    border-color: transparent;\n",
              "    border-bottom-color: var(--fill-color);\n",
              "    animation:\n",
              "      spin 1s steps(1) infinite;\n",
              "  }\n",
              "\n",
              "  @keyframes spin {\n",
              "    0% {\n",
              "      border-color: transparent;\n",
              "      border-bottom-color: var(--fill-color);\n",
              "      border-left-color: var(--fill-color);\n",
              "    }\n",
              "    20% {\n",
              "      border-color: transparent;\n",
              "      border-left-color: var(--fill-color);\n",
              "      border-top-color: var(--fill-color);\n",
              "    }\n",
              "    30% {\n",
              "      border-color: transparent;\n",
              "      border-left-color: var(--fill-color);\n",
              "      border-top-color: var(--fill-color);\n",
              "      border-right-color: var(--fill-color);\n",
              "    }\n",
              "    40% {\n",
              "      border-color: transparent;\n",
              "      border-right-color: var(--fill-color);\n",
              "      border-top-color: var(--fill-color);\n",
              "    }\n",
              "    60% {\n",
              "      border-color: transparent;\n",
              "      border-right-color: var(--fill-color);\n",
              "    }\n",
              "    80% {\n",
              "      border-color: transparent;\n",
              "      border-right-color: var(--fill-color);\n",
              "      border-bottom-color: var(--fill-color);\n",
              "    }\n",
              "    90% {\n",
              "      border-color: transparent;\n",
              "      border-bottom-color: var(--fill-color);\n",
              "    }\n",
              "  }\n",
              "</style>\n",
              "\n",
              "      <script>\n",
              "        async function quickchart(key) {\n",
              "          const quickchartButtonEl =\n",
              "            document.querySelector('#' + key + ' button');\n",
              "          quickchartButtonEl.disabled = true;  // To prevent multiple clicks.\n",
              "          quickchartButtonEl.classList.add('colab-df-spinner');\n",
              "          try {\n",
              "            const charts = await google.colab.kernel.invokeFunction(\n",
              "                'suggestCharts', [key], {});\n",
              "          } catch (error) {\n",
              "            console.error('Error during call to suggestCharts:', error);\n",
              "          }\n",
              "          quickchartButtonEl.classList.remove('colab-df-spinner');\n",
              "          quickchartButtonEl.classList.add('colab-df-quickchart-complete');\n",
              "        }\n",
              "        (() => {\n",
              "          let quickchartButtonEl =\n",
              "            document.querySelector('#df-d0a5539f-b6bf-4af0-92cc-697e1e2e4d43 button');\n",
              "          quickchartButtonEl.style.display =\n",
              "            google.colab.kernel.accessAllowed ? 'block' : 'none';\n",
              "        })();\n",
              "      </script>\n",
              "    </div>\n",
              "\n",
              "    </div>\n",
              "  </div>\n"
            ],
            "application/vnd.google.colaboratory.intrinsic+json": {
              "type": "dataframe",
              "variable_name": "df"
            }
          },
          "metadata": {},
          "execution_count": 15
        }
      ]
    },
    {
      "cell_type": "code",
      "source": [],
      "metadata": {
        "id": "nkDDDNRVfIJZ"
      },
      "execution_count": null,
      "outputs": []
    },
    {
      "cell_type": "markdown",
      "source": [
        "**1.2.3** Using matplotlib or seaborn to draw some (two or more if possible) visualizations on the relationship between gmap_id and reivew_time. You could explore for example, what is the time people usually review? How many business is reviewed in the morning time etc. Please also discuss the insights you are finding with your visualizations in the markdown cell. Please also include your findings and visualizations in the report."
      ],
      "metadata": {
        "id": "qSx8GiDOpXvn"
      }
    },
    {
      "cell_type": "code",
      "source": [
        "hour_wise_reviews = df['reivew_time'].value_counts().to_frame().reset_index().rename(columns={'count': 'reviews'})\n",
        "hour_wise_reviews = hour_wise_reviews.sort_values(by='reivew_time').reset_index(drop=True)\n",
        "hour_wise_reviews.head()"
      ],
      "metadata": {
        "id": "OrhqYg3YpaAV",
        "outputId": "7ce0f14f-eed1-4475-8976-6e3f4b033b87",
        "colab": {
          "base_uri": "https://localhost:8080/",
          "height": 206
        }
      },
      "execution_count": 16,
      "outputs": [
        {
          "output_type": "execute_result",
          "data": {
            "text/plain": [
              "   reivew_time  reviews\n",
              "0          0.0    31434\n",
              "1          1.0    31447\n",
              "2          2.0    33849\n",
              "3          3.0    35498\n",
              "4          4.0    35634"
            ],
            "text/html": [
              "\n",
              "  <div id=\"df-e77dcd74-2ff2-4cda-b84b-af885d6ed927\" class=\"colab-df-container\">\n",
              "    <div>\n",
              "<style scoped>\n",
              "    .dataframe tbody tr th:only-of-type {\n",
              "        vertical-align: middle;\n",
              "    }\n",
              "\n",
              "    .dataframe tbody tr th {\n",
              "        vertical-align: top;\n",
              "    }\n",
              "\n",
              "    .dataframe thead th {\n",
              "        text-align: right;\n",
              "    }\n",
              "</style>\n",
              "<table border=\"1\" class=\"dataframe\">\n",
              "  <thead>\n",
              "    <tr style=\"text-align: right;\">\n",
              "      <th></th>\n",
              "      <th>reivew_time</th>\n",
              "      <th>reviews</th>\n",
              "    </tr>\n",
              "  </thead>\n",
              "  <tbody>\n",
              "    <tr>\n",
              "      <th>0</th>\n",
              "      <td>0.0</td>\n",
              "      <td>31434</td>\n",
              "    </tr>\n",
              "    <tr>\n",
              "      <th>1</th>\n",
              "      <td>1.0</td>\n",
              "      <td>31447</td>\n",
              "    </tr>\n",
              "    <tr>\n",
              "      <th>2</th>\n",
              "      <td>2.0</td>\n",
              "      <td>33849</td>\n",
              "    </tr>\n",
              "    <tr>\n",
              "      <th>3</th>\n",
              "      <td>3.0</td>\n",
              "      <td>35498</td>\n",
              "    </tr>\n",
              "    <tr>\n",
              "      <th>4</th>\n",
              "      <td>4.0</td>\n",
              "      <td>35634</td>\n",
              "    </tr>\n",
              "  </tbody>\n",
              "</table>\n",
              "</div>\n",
              "    <div class=\"colab-df-buttons\">\n",
              "\n",
              "  <div class=\"colab-df-container\">\n",
              "    <button class=\"colab-df-convert\" onclick=\"convertToInteractive('df-e77dcd74-2ff2-4cda-b84b-af885d6ed927')\"\n",
              "            title=\"Convert this dataframe to an interactive table.\"\n",
              "            style=\"display:none;\">\n",
              "\n",
              "  <svg xmlns=\"http://www.w3.org/2000/svg\" height=\"24px\" viewBox=\"0 -960 960 960\">\n",
              "    <path d=\"M120-120v-720h720v720H120Zm60-500h600v-160H180v160Zm220 220h160v-160H400v160Zm0 220h160v-160H400v160ZM180-400h160v-160H180v160Zm440 0h160v-160H620v160ZM180-180h160v-160H180v160Zm440 0h160v-160H620v160Z\"/>\n",
              "  </svg>\n",
              "    </button>\n",
              "\n",
              "  <style>\n",
              "    .colab-df-container {\n",
              "      display:flex;\n",
              "      gap: 12px;\n",
              "    }\n",
              "\n",
              "    .colab-df-convert {\n",
              "      background-color: #E8F0FE;\n",
              "      border: none;\n",
              "      border-radius: 50%;\n",
              "      cursor: pointer;\n",
              "      display: none;\n",
              "      fill: #1967D2;\n",
              "      height: 32px;\n",
              "      padding: 0 0 0 0;\n",
              "      width: 32px;\n",
              "    }\n",
              "\n",
              "    .colab-df-convert:hover {\n",
              "      background-color: #E2EBFA;\n",
              "      box-shadow: 0px 1px 2px rgba(60, 64, 67, 0.3), 0px 1px 3px 1px rgba(60, 64, 67, 0.15);\n",
              "      fill: #174EA6;\n",
              "    }\n",
              "\n",
              "    .colab-df-buttons div {\n",
              "      margin-bottom: 4px;\n",
              "    }\n",
              "\n",
              "    [theme=dark] .colab-df-convert {\n",
              "      background-color: #3B4455;\n",
              "      fill: #D2E3FC;\n",
              "    }\n",
              "\n",
              "    [theme=dark] .colab-df-convert:hover {\n",
              "      background-color: #434B5C;\n",
              "      box-shadow: 0px 1px 3px 1px rgba(0, 0, 0, 0.15);\n",
              "      filter: drop-shadow(0px 1px 2px rgba(0, 0, 0, 0.3));\n",
              "      fill: #FFFFFF;\n",
              "    }\n",
              "  </style>\n",
              "\n",
              "    <script>\n",
              "      const buttonEl =\n",
              "        document.querySelector('#df-e77dcd74-2ff2-4cda-b84b-af885d6ed927 button.colab-df-convert');\n",
              "      buttonEl.style.display =\n",
              "        google.colab.kernel.accessAllowed ? 'block' : 'none';\n",
              "\n",
              "      async function convertToInteractive(key) {\n",
              "        const element = document.querySelector('#df-e77dcd74-2ff2-4cda-b84b-af885d6ed927');\n",
              "        const dataTable =\n",
              "          await google.colab.kernel.invokeFunction('convertToInteractive',\n",
              "                                                    [key], {});\n",
              "        if (!dataTable) return;\n",
              "\n",
              "        const docLinkHtml = 'Like what you see? Visit the ' +\n",
              "          '<a target=\"_blank\" href=https://colab.research.google.com/notebooks/data_table.ipynb>data table notebook</a>'\n",
              "          + ' to learn more about interactive tables.';\n",
              "        element.innerHTML = '';\n",
              "        dataTable['output_type'] = 'display_data';\n",
              "        await google.colab.output.renderOutput(dataTable, element);\n",
              "        const docLink = document.createElement('div');\n",
              "        docLink.innerHTML = docLinkHtml;\n",
              "        element.appendChild(docLink);\n",
              "      }\n",
              "    </script>\n",
              "  </div>\n",
              "\n",
              "\n",
              "    <div id=\"df-0fe0df74-5d63-43fe-b777-6ae6f594e1c6\">\n",
              "      <button class=\"colab-df-quickchart\" onclick=\"quickchart('df-0fe0df74-5d63-43fe-b777-6ae6f594e1c6')\"\n",
              "                title=\"Suggest charts\"\n",
              "                style=\"display:none;\">\n",
              "\n",
              "<svg xmlns=\"http://www.w3.org/2000/svg\" height=\"24px\"viewBox=\"0 0 24 24\"\n",
              "     width=\"24px\">\n",
              "    <g>\n",
              "        <path d=\"M19 3H5c-1.1 0-2 .9-2 2v14c0 1.1.9 2 2 2h14c1.1 0 2-.9 2-2V5c0-1.1-.9-2-2-2zM9 17H7v-7h2v7zm4 0h-2V7h2v10zm4 0h-2v-4h2v4z\"/>\n",
              "    </g>\n",
              "</svg>\n",
              "      </button>\n",
              "\n",
              "<style>\n",
              "  .colab-df-quickchart {\n",
              "      --bg-color: #E8F0FE;\n",
              "      --fill-color: #1967D2;\n",
              "      --hover-bg-color: #E2EBFA;\n",
              "      --hover-fill-color: #174EA6;\n",
              "      --disabled-fill-color: #AAA;\n",
              "      --disabled-bg-color: #DDD;\n",
              "  }\n",
              "\n",
              "  [theme=dark] .colab-df-quickchart {\n",
              "      --bg-color: #3B4455;\n",
              "      --fill-color: #D2E3FC;\n",
              "      --hover-bg-color: #434B5C;\n",
              "      --hover-fill-color: #FFFFFF;\n",
              "      --disabled-bg-color: #3B4455;\n",
              "      --disabled-fill-color: #666;\n",
              "  }\n",
              "\n",
              "  .colab-df-quickchart {\n",
              "    background-color: var(--bg-color);\n",
              "    border: none;\n",
              "    border-radius: 50%;\n",
              "    cursor: pointer;\n",
              "    display: none;\n",
              "    fill: var(--fill-color);\n",
              "    height: 32px;\n",
              "    padding: 0;\n",
              "    width: 32px;\n",
              "  }\n",
              "\n",
              "  .colab-df-quickchart:hover {\n",
              "    background-color: var(--hover-bg-color);\n",
              "    box-shadow: 0 1px 2px rgba(60, 64, 67, 0.3), 0 1px 3px 1px rgba(60, 64, 67, 0.15);\n",
              "    fill: var(--button-hover-fill-color);\n",
              "  }\n",
              "\n",
              "  .colab-df-quickchart-complete:disabled,\n",
              "  .colab-df-quickchart-complete:disabled:hover {\n",
              "    background-color: var(--disabled-bg-color);\n",
              "    fill: var(--disabled-fill-color);\n",
              "    box-shadow: none;\n",
              "  }\n",
              "\n",
              "  .colab-df-spinner {\n",
              "    border: 2px solid var(--fill-color);\n",
              "    border-color: transparent;\n",
              "    border-bottom-color: var(--fill-color);\n",
              "    animation:\n",
              "      spin 1s steps(1) infinite;\n",
              "  }\n",
              "\n",
              "  @keyframes spin {\n",
              "    0% {\n",
              "      border-color: transparent;\n",
              "      border-bottom-color: var(--fill-color);\n",
              "      border-left-color: var(--fill-color);\n",
              "    }\n",
              "    20% {\n",
              "      border-color: transparent;\n",
              "      border-left-color: var(--fill-color);\n",
              "      border-top-color: var(--fill-color);\n",
              "    }\n",
              "    30% {\n",
              "      border-color: transparent;\n",
              "      border-left-color: var(--fill-color);\n",
              "      border-top-color: var(--fill-color);\n",
              "      border-right-color: var(--fill-color);\n",
              "    }\n",
              "    40% {\n",
              "      border-color: transparent;\n",
              "      border-right-color: var(--fill-color);\n",
              "      border-top-color: var(--fill-color);\n",
              "    }\n",
              "    60% {\n",
              "      border-color: transparent;\n",
              "      border-right-color: var(--fill-color);\n",
              "    }\n",
              "    80% {\n",
              "      border-color: transparent;\n",
              "      border-right-color: var(--fill-color);\n",
              "      border-bottom-color: var(--fill-color);\n",
              "    }\n",
              "    90% {\n",
              "      border-color: transparent;\n",
              "      border-bottom-color: var(--fill-color);\n",
              "    }\n",
              "  }\n",
              "</style>\n",
              "\n",
              "      <script>\n",
              "        async function quickchart(key) {\n",
              "          const quickchartButtonEl =\n",
              "            document.querySelector('#' + key + ' button');\n",
              "          quickchartButtonEl.disabled = true;  // To prevent multiple clicks.\n",
              "          quickchartButtonEl.classList.add('colab-df-spinner');\n",
              "          try {\n",
              "            const charts = await google.colab.kernel.invokeFunction(\n",
              "                'suggestCharts', [key], {});\n",
              "          } catch (error) {\n",
              "            console.error('Error during call to suggestCharts:', error);\n",
              "          }\n",
              "          quickchartButtonEl.classList.remove('colab-df-spinner');\n",
              "          quickchartButtonEl.classList.add('colab-df-quickchart-complete');\n",
              "        }\n",
              "        (() => {\n",
              "          let quickchartButtonEl =\n",
              "            document.querySelector('#df-0fe0df74-5d63-43fe-b777-6ae6f594e1c6 button');\n",
              "          quickchartButtonEl.style.display =\n",
              "            google.colab.kernel.accessAllowed ? 'block' : 'none';\n",
              "        })();\n",
              "      </script>\n",
              "    </div>\n",
              "\n",
              "    </div>\n",
              "  </div>\n"
            ],
            "application/vnd.google.colaboratory.intrinsic+json": {
              "type": "dataframe",
              "variable_name": "hour_wise_reviews",
              "summary": "{\n  \"name\": \"hour_wise_reviews\",\n  \"rows\": 24,\n  \"fields\": [\n    {\n      \"column\": \"reivew_time\",\n      \"properties\": {\n        \"dtype\": \"number\",\n        \"std\": 7.0710678118654755,\n        \"min\": 0.0,\n        \"max\": 23.0,\n        \"num_unique_values\": 24,\n        \"samples\": [\n          8.0,\n          16.0,\n          0.0\n        ],\n        \"semantic_type\": \"\",\n        \"description\": \"\"\n      }\n    },\n    {\n      \"column\": \"reviews\",\n      \"properties\": {\n        \"dtype\": \"number\",\n        \"std\": 10342,\n        \"min\": 5913,\n        \"max\": 35634,\n        \"num_unique_values\": 24,\n        \"samples\": [\n          15490,\n          16607,\n          31434\n        ],\n        \"semantic_type\": \"\",\n        \"description\": \"\"\n      }\n    }\n  ]\n}"
            }
          },
          "metadata": {},
          "execution_count": 16
        }
      ]
    },
    {
      "cell_type": "code",
      "source": [
        "plt.figure(figsize=[8, 4])\n",
        "sns.barplot(hour_wise_reviews, x='reivew_time', y='reviews')\n",
        "plt.xlabel(\"Review hour\")\n",
        "plt.ylabel(\"Number of reviews\")\n",
        "plt.tick_params(axis='x', labelrotation=90)"
      ],
      "metadata": {
        "id": "RTqX69YGpZ9d",
        "outputId": "cdabd98e-ab91-4772-8830-441e3fc31c78",
        "colab": {
          "base_uri": "https://localhost:8080/",
          "height": 405
        }
      },
      "execution_count": 17,
      "outputs": [
        {
          "output_type": "display_data",
          "data": {
            "text/plain": [
              "<Figure size 800x400 with 1 Axes>"
            ],
            "image/png": "[encoded data removed]"
          },
          "metadata": {}
        }
      ]
    },
    {
      "cell_type": "code",
      "source": [],
      "metadata": {
        "id": "so-bSdAxpZGr"
      },
      "execution_count": null,
      "outputs": []
    },
    {
      "cell_type": "code",
      "source": [],
      "metadata": {
        "id": "goDNUjngpZD0"
      },
      "execution_count": null,
      "outputs": []
    },
    {
      "cell_type": "code",
      "source": [],
      "metadata": {
        "id": "3pzbHBFofIGu"
      },
      "execution_count": null,
      "outputs": []
    },
    {
      "cell_type": "markdown",
      "source": [
        "### Answer 1.3"
      ],
      "metadata": {
        "id": "XoUbTxLHfL0M"
      }
    },
    {
      "cell_type": "markdown",
      "source": [
        "**Question:**\n",
        "\n",
        "Let’s continue to analyze the reivew_time with reviews and related gmap_id. You need to use another data meta-business to join with the current dataframe on gmap_id.\n",
        "> **1.3.1** Determine which workday (day of the week), generates the most reviews (plotting the results in a line chart with workday on averaged submissions).\n",
        "\n",
        "> **1.3.2** Identify the names of business (column name from data meta-business) that has the highest averaged ratings on ‘that workday’ (you need to find out from 1.3.1), and find out which category those businesses are from?\n",
        "\n",
        "> **1.3.3** Please further explore the data on name of business and find out some more insights by yourself such as which category it is and what are the peak hours etc. Please use visualizations and tables to support your findings and write down the insights in the markdown cell. Please also include your findings and visualizations in the report."
      ],
      "metadata": {
        "id": "QyzRijEefUtM"
      }
    },
    {
      "cell_type": "code",
      "source": [],
      "metadata": {
        "id": "R75yKe8UfQ2H"
      },
      "execution_count": null,
      "outputs": []
    },
    {
      "cell_type": "markdown",
      "source": [
        "**Answer 1.3:**\n",
        "\n",
        "Let’s continue to analyze the reivew_time with reviews and related gmap_id. You need to use another data meta-business to join with the current dataframe on gmap_id."
      ],
      "metadata": {
        "id": "UVbGrOffpyiK"
      }
    },
    {
      "cell_type": "code",
      "source": [
        "df_meta_business = pd.read_csv(drive_path + \"/meta-review-business.csv\")\n",
        "df_meta_business.head()"
      ],
      "metadata": {
        "id": "fFjgYYtAfrb9",
        "outputId": "8cb5ff69-3bf8-4f9d-efa4-23648ead5c85",
        "colab": {
          "base_uri": "https://localhost:8080/",
          "height": 608
        }
      },
      "execution_count": 18,
      "outputs": [
        {
          "output_type": "execute_result",
          "data": {
            "text/plain": [
              "                          name  \\\n",
              "0  Bear Creek Cabins & RV Park   \n",
              "1             Anchorage Market   \n",
              "2              Happy Camper RV   \n",
              "3                 Cajun Corner   \n",
              "4      Alaska General Seafoods   \n",
              "\n",
              "                                             address  \\\n",
              "0  Bear Creek Cabins & RV Park, 3181 Richardson H...   \n",
              "1    Anchorage Market, 88th Ave, Anchorage, AK 99515   \n",
              "2  Happy Camper RV, 1151 N Shenandoah Dr # 4, Pal...   \n",
              "3        Cajun Corner, 302 G St, Anchorage, AK 99501   \n",
              "4  Alaska General Seafoods, 980 Stedman St, Ketch...   \n",
              "\n",
              "                                 gmap_id description   latitude   longitude  \\\n",
              "0  0x56b646ed2220b77f:0xd8975e316de80952         NaN  61.100644 -146.214552   \n",
              "1  0x56c8992b5dee7225:0x9f7f4bf151868cf7         NaN  61.141435 -149.868482   \n",
              "2  0x56c8e0455225be87:0xf24828df75e2f8ae         NaN  61.591856 -149.290657   \n",
              "3  0x56c8bdb5d91017cd:0xca19fd9afceed343         NaN  61.219378 -149.895852   \n",
              "4  0x540c251956395673:0x16f5a4fe26c18931         NaN  55.336119 -131.630669   \n",
              "\n",
              "                                           category  avg_rating  \\\n",
              "0  ['RV park', 'Cabin rental agency', 'Campground']         4.5   \n",
              "1                               [\"Farmers' market\"]         4.2   \n",
              "2                                ['RV repair shop']         4.4   \n",
              "3                           ['American restaurant']         4.5   \n",
              "4                    ['Seafood wholesaler', 'Food']         4.7   \n",
              "\n",
              "   num_of_reviews price                                              hours  \\\n",
              "0              18   NaN                                                NaN   \n",
              "1              18   NaN  [['Thursday', 'Closed'], ['Friday', '10AM–5PM'...   \n",
              "2              28   NaN                                                NaN   \n",
              "3              24   NaN  [['Wednesday', '11AM–2PM'], ['Thursday', '11AM...   \n",
              "4               8   NaN  [['Wednesday', '7AM–11PM'], ['Thursday', '7AM–...   \n",
              "\n",
              "                                                MISC                    state  \\\n",
              "0                                                NaN                      NaN   \n",
              "1  {'Service options': ['In-store shopping'], 'Ac...  Closed ⋅ Opens 10AM Fri   \n",
              "2  {'Accessibility': ['Wheelchair accessible entr...                      NaN   \n",
              "3  {'Service options': ['Takeout', 'Dine-in', 'De...  Closed ⋅ Opens 11AM Thu   \n",
              "4                                                NaN       Open ⋅ Closes 11PM   \n",
              "\n",
              "                                    relative_results  \\\n",
              "0  ['0x56b6445fd9f9e387:0x6dd3d374ef56431a', '0x5...   \n",
              "1                                                NaN   \n",
              "2  ['0x56c8e104d9929a1d:0x2070ad63defadbf', '0x56...   \n",
              "3                                                NaN   \n",
              "4  ['0x540c25a882a72685:0xac5663d19d0a1893', '0x5...   \n",
              "\n",
              "                                                 url  \n",
              "0  https://www.google.com/maps/place//data=!4m2!3...  \n",
              "1  https://www.google.com/maps/place//data=!4m2!3...  \n",
              "2  https://www.google.com/maps/place//data=!4m2!3...  \n",
              "3  https://www.google.com/maps/place//data=!4m2!3...  \n",
              "4  https://www.google.com/maps/place//data=!4m2!3...  "
            ],
            "text/html": [
              "\n",
              "  <div id=\"df-1e316b11-dcda-4e9b-a158-f059dfc7f0e7\" class=\"colab-df-container\">\n",
              "    <div>\n",
              "<style scoped>\n",
              "    .dataframe tbody tr th:only-of-type {\n",
              "        vertical-align: middle;\n",
              "    }\n",
              "\n",
              "    .dataframe tbody tr th {\n",
              "        vertical-align: top;\n",
              "    }\n",
              "\n",
              "    .dataframe thead th {\n",
              "        text-align: right;\n",
              "    }\n",
              "</style>\n",
              "<table border=\"1\" class=\"dataframe\">\n",
              "  <thead>\n",
              "    <tr style=\"text-align: right;\">\n",
              "      <th></th>\n",
              "      <th>name</th>\n",
              "      <th>address</th>\n",
              "      <th>gmap_id</th>\n",
              "      <th>description</th>\n",
              "      <th>latitude</th>\n",
              "      <th>longitude</th>\n",
              "      <th>category</th>\n",
              "      <th>avg_rating</th>\n",
              "      <th>num_of_reviews</th>\n",
              "      <th>price</th>\n",
              "      <th>hours</th>\n",
              "      <th>MISC</th>\n",
              "      <th>state</th>\n",
              "      <th>relative_results</th>\n",
              "      <th>url</th>\n",
              "    </tr>\n",
              "  </thead>\n",
              "  <tbody>\n",
              "    <tr>\n",
              "      <th>0</th>\n",
              "      <td>Bear Creek Cabins &amp; RV Park</td>\n",
              "      <td>Bear Creek Cabins &amp; RV Park, 3181 Richardson H...</td>\n",
              "      <td>0x56b646ed2220b77f:0xd8975e316de80952</td>\n",
              "      <td>NaN</td>\n",
              "      <td>61.100644</td>\n",
              "      <td>-146.214552</td>\n",
              "      <td>['RV park', 'Cabin rental agency', 'Campground']</td>\n",
              "      <td>4.5</td>\n",
              "      <td>18</td>\n",
              "      <td>NaN</td>\n",
              "      <td>NaN</td>\n",
              "      <td>NaN</td>\n",
              "      <td>NaN</td>\n",
              "      <td>['0x56b6445fd9f9e387:0x6dd3d374ef56431a', '0x5...</td>\n",
              "      <td>https://www.google.com/maps/place//data=!4m2!3...</td>\n",
              "    </tr>\n",
              "    <tr>\n",
              "      <th>1</th>\n",
              "      <td>Anchorage Market</td>\n",
              "      <td>Anchorage Market, 88th Ave, Anchorage, AK 99515</td>\n",
              "      <td>0x56c8992b5dee7225:0x9f7f4bf151868cf7</td>\n",
              "      <td>NaN</td>\n",
              "      <td>61.141435</td>\n",
              "      <td>-149.868482</td>\n",
              "      <td>[\"Farmers' market\"]</td>\n",
              "      <td>4.2</td>\n",
              "      <td>18</td>\n",
              "      <td>NaN</td>\n",
              "      <td>[['Thursday', 'Closed'], ['Friday', '10AM–5PM'...</td>\n",
              "      <td>{'Service options': ['In-store shopping'], 'Ac...</td>\n",
              "      <td>Closed ⋅ Opens 10AM Fri</td>\n",
              "      <td>NaN</td>\n",
              "      <td>https://www.google.com/maps/place//data=!4m2!3...</td>\n",
              "    </tr>\n",
              "    <tr>\n",
              "      <th>2</th>\n",
              "      <td>Happy Camper RV</td>\n",
              "      <td>Happy Camper RV, 1151 N Shenandoah Dr # 4, Pal...</td>\n",
              "      <td>0x56c8e0455225be87:0xf24828df75e2f8ae</td>\n",
              "      <td>NaN</td>\n",
              "      <td>61.591856</td>\n",
              "      <td>-149.290657</td>\n",
              "      <td>['RV repair shop']</td>\n",
              "      <td>4.4</td>\n",
              "      <td>28</td>\n",
              "      <td>NaN</td>\n",
              "      <td>NaN</td>\n",
              "      <td>{'Accessibility': ['Wheelchair accessible entr...</td>\n",
              "      <td>NaN</td>\n",
              "      <td>['0x56c8e104d9929a1d:0x2070ad63defadbf', '0x56...</td>\n",
              "      <td>https://www.google.com/maps/place//data=!4m2!3...</td>\n",
              "    </tr>\n",
              "    <tr>\n",
              "      <th>3</th>\n",
              "      <td>Cajun Corner</td>\n",
              "      <td>Cajun Corner, 302 G St, Anchorage, AK 99501</td>\n",
              "      <td>0x56c8bdb5d91017cd:0xca19fd9afceed343</td>\n",
              "      <td>NaN</td>\n",
              "      <td>61.219378</td>\n",
              "      <td>-149.895852</td>\n",
              "      <td>['American restaurant']</td>\n",
              "      <td>4.5</td>\n",
              "      <td>24</td>\n",
              "      <td>NaN</td>\n",
              "      <td>[['Wednesday', '11AM–2PM'], ['Thursday', '11AM...</td>\n",
              "      <td>{'Service options': ['Takeout', 'Dine-in', 'De...</td>\n",
              "      <td>Closed ⋅ Opens 11AM Thu</td>\n",
              "      <td>NaN</td>\n",
              "      <td>https://www.google.com/maps/place//data=!4m2!3...</td>\n",
              "    </tr>\n",
              "    <tr>\n",
              "      <th>4</th>\n",
              "      <td>Alaska General Seafoods</td>\n",
              "      <td>Alaska General Seafoods, 980 Stedman St, Ketch...</td>\n",
              "      <td>0x540c251956395673:0x16f5a4fe26c18931</td>\n",
              "      <td>NaN</td>\n",
              "      <td>55.336119</td>\n",
              "      <td>-131.630669</td>\n",
              "      <td>['Seafood wholesaler', 'Food']</td>\n",
              "      <td>4.7</td>\n",
              "      <td>8</td>\n",
              "      <td>NaN</td>\n",
              "      <td>[['Wednesday', '7AM–11PM'], ['Thursday', '7AM–...</td>\n",
              "      <td>NaN</td>\n",
              "      <td>Open ⋅ Closes 11PM</td>\n",
              "      <td>['0x540c25a882a72685:0xac5663d19d0a1893', '0x5...</td>\n",
              "      <td>https://www.google.com/maps/place//data=!4m2!3...</td>\n",
              "    </tr>\n",
              "  </tbody>\n",
              "</table>\n",
              "</div>\n",
              "    <div class=\"colab-df-buttons\">\n",
              "\n",
              "  <div class=\"colab-df-container\">\n",
              "    <button class=\"colab-df-convert\" onclick=\"convertToInteractive('df-1e316b11-dcda-4e9b-a158-f059dfc7f0e7')\"\n",
              "            title=\"Convert this dataframe to an interactive table.\"\n",
              "            style=\"display:none;\">\n",
              "\n",
              "  <svg xmlns=\"http://www.w3.org/2000/svg\" height=\"24px\" viewBox=\"0 -960 960 960\">\n",
              "    <path d=\"M120-120v-720h720v720H120Zm60-500h600v-160H180v160Zm220 220h160v-160H400v160Zm0 220h160v-160H400v160ZM180-400h160v-160H180v160Zm440 0h160v-160H620v160ZM180-180h160v-160H180v160Zm440 0h160v-160H620v160Z\"/>\n",
              "  </svg>\n",
              "    </button>\n",
              "\n",
              "  <style>\n",
              "    .colab-df-container {\n",
              "      display:flex;\n",
              "      gap: 12px;\n",
              "    }\n",
              "\n",
              "    .colab-df-convert {\n",
              "      background-color: #E8F0FE;\n",
              "      border: none;\n",
              "      border-radius: 50%;\n",
              "      cursor: pointer;\n",
              "      display: none;\n",
              "      fill: #1967D2;\n",
              "      height: 32px;\n",
              "      padding: 0 0 0 0;\n",
              "      width: 32px;\n",
              "    }\n",
              "\n",
              "    .colab-df-convert:hover {\n",
              "      background-color: #E2EBFA;\n",
              "      box-shadow: 0px 1px 2px rgba(60, 64, 67, 0.3), 0px 1px 3px 1px rgba(60, 64, 67, 0.15);\n",
              "      fill: #174EA6;\n",
              "    }\n",
              "\n",
              "    .colab-df-buttons div {\n",
              "      margin-bottom: 4px;\n",
              "    }\n",
              "\n",
              "    [theme=dark] .colab-df-convert {\n",
              "      background-color: #3B4455;\n",
              "      fill: #D2E3FC;\n",
              "    }\n",
              "\n",
              "    [theme=dark] .colab-df-convert:hover {\n",
              "      background-color: #434B5C;\n",
              "      box-shadow: 0px 1px 3px 1px rgba(0, 0, 0, 0.15);\n",
              "      filter: drop-shadow(0px 1px 2px rgba(0, 0, 0, 0.3));\n",
              "      fill: #FFFFFF;\n",
              "    }\n",
              "  </style>\n",
              "\n",
              "    <script>\n",
              "      const buttonEl =\n",
              "        document.querySelector('#df-1e316b11-dcda-4e9b-a158-f059dfc7f0e7 button.colab-df-convert');\n",
              "      buttonEl.style.display =\n",
              "        google.colab.kernel.accessAllowed ? 'block' : 'none';\n",
              "\n",
              "      async function convertToInteractive(key) {\n",
              "        const element = document.querySelector('#df-1e316b11-dcda-4e9b-a158-f059dfc7f0e7');\n",
              "        const dataTable =\n",
              "          await google.colab.kernel.invokeFunction('convertToInteractive',\n",
              "                                                    [key], {});\n",
              "        if (!dataTable) return;\n",
              "\n",
              "        const docLinkHtml = 'Like what you see? Visit the ' +\n",
              "          '<a target=\"_blank\" href=https://colab.research.google.com/notebooks/data_table.ipynb>data table notebook</a>'\n",
              "          + ' to learn more about interactive tables.';\n",
              "        element.innerHTML = '';\n",
              "        dataTable['output_type'] = 'display_data';\n",
              "        await google.colab.output.renderOutput(dataTable, element);\n",
              "        const docLink = document.createElement('div');\n",
              "        docLink.innerHTML = docLinkHtml;\n",
              "        element.appendChild(docLink);\n",
              "      }\n",
              "    </script>\n",
              "  </div>\n",
              "\n",
              "\n",
              "    <div id=\"df-0ea9d33e-38c1-426d-aaaf-c07e1aed2c4c\">\n",
              "      <button class=\"colab-df-quickchart\" onclick=\"quickchart('df-0ea9d33e-38c1-426d-aaaf-c07e1aed2c4c')\"\n",
              "                title=\"Suggest charts\"\n",
              "                style=\"display:none;\">\n",
              "\n",
              "<svg xmlns=\"http://www.w3.org/2000/svg\" height=\"24px\"viewBox=\"0 0 24 24\"\n",
              "     width=\"24px\">\n",
              "    <g>\n",
              "        <path d=\"M19 3H5c-1.1 0-2 .9-2 2v14c0 1.1.9 2 2 2h14c1.1 0 2-.9 2-2V5c0-1.1-.9-2-2-2zM9 17H7v-7h2v7zm4 0h-2V7h2v10zm4 0h-2v-4h2v4z\"/>\n",
              "    </g>\n",
              "</svg>\n",
              "      </button>\n",
              "\n",
              "<style>\n",
              "  .colab-df-quickchart {\n",
              "      --bg-color: #E8F0FE;\n",
              "      --fill-color: #1967D2;\n",
              "      --hover-bg-color: #E2EBFA;\n",
              "      --hover-fill-color: #174EA6;\n",
              "      --disabled-fill-color: #AAA;\n",
              "      --disabled-bg-color: #DDD;\n",
              "  }\n",
              "\n",
              "  [theme=dark] .colab-df-quickchart {\n",
              "      --bg-color: #3B4455;\n",
              "      --fill-color: #D2E3FC;\n",
              "      --hover-bg-color: #434B5C;\n",
              "      --hover-fill-color: #FFFFFF;\n",
              "      --disabled-bg-color: #3B4455;\n",
              "      --disabled-fill-color: #666;\n",
              "  }\n",
              "\n",
              "  .colab-df-quickchart {\n",
              "    background-color: var(--bg-color);\n",
              "    border: none;\n",
              "    border-radius: 50%;\n",
              "    cursor: pointer;\n",
              "    display: none;\n",
              "    fill: var(--fill-color);\n",
              "    height: 32px;\n",
              "    padding: 0;\n",
              "    width: 32px;\n",
              "  }\n",
              "\n",
              "  .colab-df-quickchart:hover {\n",
              "    background-color: var(--hover-bg-color);\n",
              "    box-shadow: 0 1px 2px rgba(60, 64, 67, 0.3), 0 1px 3px 1px rgba(60, 64, 67, 0.15);\n",
              "    fill: var(--button-hover-fill-color);\n",
              "  }\n",
              "\n",
              "  .colab-df-quickchart-complete:disabled,\n",
              "  .colab-df-quickchart-complete:disabled:hover {\n",
              "    background-color: var(--disabled-bg-color);\n",
              "    fill: var(--disabled-fill-color);\n",
              "    box-shadow: none;\n",
              "  }\n",
              "\n",
              "  .colab-df-spinner {\n",
              "    border: 2px solid var(--fill-color);\n",
              "    border-color: transparent;\n",
              "    border-bottom-color: var(--fill-color);\n",
              "    animation:\n",
              "      spin 1s steps(1) infinite;\n",
              "  }\n",
              "\n",
              "  @keyframes spin {\n",
              "    0% {\n",
              "      border-color: transparent;\n",
              "      border-bottom-color: var(--fill-color);\n",
              "      border-left-color: var(--fill-color);\n",
              "    }\n",
              "    20% {\n",
              "      border-color: transparent;\n",
              "      border-left-color: var(--fill-color);\n",
              "      border-top-color: var(--fill-color);\n",
              "    }\n",
              "    30% {\n",
              "      border-color: transparent;\n",
              "      border-left-color: var(--fill-color);\n",
              "      border-top-color: var(--fill-color);\n",
              "      border-right-color: var(--fill-color);\n",
              "    }\n",
              "    40% {\n",
              "      border-color: transparent;\n",
              "      border-right-color: var(--fill-color);\n",
              "      border-top-color: var(--fill-color);\n",
              "    }\n",
              "    60% {\n",
              "      border-color: transparent;\n",
              "      border-right-color: var(--fill-color);\n",
              "    }\n",
              "    80% {\n",
              "      border-color: transparent;\n",
              "      border-right-color: var(--fill-color);\n",
              "      border-bottom-color: var(--fill-color);\n",
              "    }\n",
              "    90% {\n",
              "      border-color: transparent;\n",
              "      border-bottom-color: var(--fill-color);\n",
              "    }\n",
              "  }\n",
              "</style>\n",
              "\n",
              "      <script>\n",
              "        async function quickchart(key) {\n",
              "          const quickchartButtonEl =\n",
              "            document.querySelector('#' + key + ' button');\n",
              "          quickchartButtonEl.disabled = true;  // To prevent multiple clicks.\n",
              "          quickchartButtonEl.classList.add('colab-df-spinner');\n",
              "          try {\n",
              "            const charts = await google.colab.kernel.invokeFunction(\n",
              "                'suggestCharts', [key], {});\n",
              "          } catch (error) {\n",
              "            console.error('Error during call to suggestCharts:', error);\n",
              "          }\n",
              "          quickchartButtonEl.classList.remove('colab-df-spinner');\n",
              "          quickchartButtonEl.classList.add('colab-df-quickchart-complete');\n",
              "        }\n",
              "        (() => {\n",
              "          let quickchartButtonEl =\n",
              "            document.querySelector('#df-0ea9d33e-38c1-426d-aaaf-c07e1aed2c4c button');\n",
              "          quickchartButtonEl.style.display =\n",
              "            google.colab.kernel.accessAllowed ? 'block' : 'none';\n",
              "        })();\n",
              "      </script>\n",
              "    </div>\n",
              "\n",
              "    </div>\n",
              "  </div>\n"
            ],
            "application/vnd.google.colaboratory.intrinsic+json": {
              "type": "dataframe",
              "variable_name": "df_meta_business",
              "summary": "{\n  \"name\": \"df_meta_business\",\n  \"rows\": 12774,\n  \"fields\": [\n    {\n      \"column\": \"name\",\n      \"properties\": {\n        \"dtype\": \"string\",\n        \"num_unique_values\": 11242,\n        \"samples\": [\n          \"Sullivan Arena\",\n          \"907 Paintball\",\n          \"South Side Townhouse CLOSED\"\n        ],\n        \"semantic_type\": \"\",\n        \"description\": \"\"\n      }\n    },\n    {\n      \"column\": \"address\",\n      \"properties\": {\n        \"dtype\": \"string\",\n        \"num_unique_values\": 12496,\n        \"samples\": [\n          \"Dry Creek Rentals, 454 Lester Rd, Healy, AK 99743\",\n          \"U.S. Nails & Spa, 346 Old Steese Hwy, Fairbanks, AK 99701\",\n          \"United States Postal Service, 800 Ingra St, Anchorage, AK 99501\"\n        ],\n        \"semantic_type\": \"\",\n        \"description\": \"\"\n      }\n    },\n    {\n      \"column\": \"gmap_id\",\n      \"properties\": {\n        \"dtype\": \"string\",\n        \"num_unique_values\": 12689,\n        \"samples\": [\n          \"0x56c897dc2d973e47:0xfb52b301227a13e8\",\n          \"0x56b5c7649a3f5b57:0x57df1205fbfb0c93\",\n          \"0x56eac4163c0a28b1:0xfd69135b03aae11e\"\n        ],\n        \"semantic_type\": \"\",\n        \"description\": \"\"\n      }\n    },\n    {\n      \"column\": \"description\",\n      \"properties\": {\n        \"dtype\": \"category\",\n        \"num_unique_values\": 924,\n        \"samples\": [\n          \"Large Alaskan region that's home to mountains, several cities & Kenai Fjords National Park.\",\n          \"Cozy cabins, some with kitchenettes, in a rustic lodge offering a restaurant/bar & a tackle shop.\",\n          \"Retail chain with brand-name athletic shoes, clothing & related accessories for men, women & kids.\"\n        ],\n        \"semantic_type\": \"\",\n        \"description\": \"\"\n      }\n    },\n    {\n      \"column\": \"latitude\",\n      \"properties\": {\n        \"dtype\": \"number\",\n        \"std\": 2.5294815467075047,\n        \"min\": 28.6478898,\n        \"max\": 71.3875,\n        \"num_unique_values\": 12229,\n        \"samples\": [\n          58.6837438,\n          61.613606,\n          61.1819426\n        ],\n        \"semantic_type\": \"\",\n        \"description\": \"\"\n      }\n    },\n    {\n      \"column\": \"longitude\",\n      \"properties\": {\n        \"dtype\": \"number\",\n        \"std\": 14.474633680627488,\n        \"min\": -178.80707619999998,\n        \"max\": 180.0,\n        \"num_unique_values\": 12258,\n        \"samples\": [\n          -166.54191609999998,\n          -149.8629833,\n          -149.44429929999998\n        ],\n        \"semantic_type\": \"\",\n        \"description\": \"\"\n      }\n    },\n    {\n      \"column\": \"category\",\n      \"properties\": {\n        \"dtype\": \"category\",\n        \"num_unique_values\": 4572,\n        \"samples\": [\n          \"['Financial institution', 'ATM', 'Bank']\",\n          \"['Plastic surgeon']\",\n          \"['Natural feature']\"\n        ],\n        \"semantic_type\": \"\",\n        \"description\": \"\"\n      }\n    },\n    {\n      \"column\": \"avg_rating\",\n      \"properties\": {\n        \"dtype\": \"number\",\n        \"std\": 0.6014150102088941,\n        \"min\": 1.0,\n        \"max\": 5.0,\n        \"num_unique_values\": 40,\n        \"samples\": [\n          3.5,\n          1.0,\n          3.7\n        ],\n        \"semantic_type\": \"\",\n        \"description\": \"\"\n      }\n    },\n    {\n      \"column\": \"num_of_reviews\",\n      \"properties\": {\n        \"dtype\": \"number\",\n        \"std\": 216,\n        \"min\": 1,\n        \"max\": 6591,\n        \"num_unique_values\": 608,\n        \"samples\": [\n          168,\n          15,\n          52\n        ],\n        \"semantic_type\": \"\",\n        \"description\": \"\"\n      }\n    },\n    {\n      \"column\": \"price\",\n      \"properties\": {\n        \"dtype\": \"category\",\n        \"num_unique_values\": 6,\n        \"samples\": [\n          \"$$\",\n          \"$\",\n          \"$$$$\"\n        ],\n        \"semantic_type\": \"\",\n        \"description\": \"\"\n      }\n    },\n    {\n      \"column\": \"hours\",\n      \"properties\": {\n        \"dtype\": \"category\",\n        \"num_unique_values\": 5028,\n        \"samples\": [\n          \"[['Sunday', 'Closed'], ['Monday', '10AM\\u20137PM'], ['Tuesday', '10AM\\u20137PM'], ['Wednesday', '10AM\\u20137PM'], ['Thursday', '10AM\\u20137PM'], ['Friday', '10AM\\u20137PM'], ['Saturday', 'Closed']]\",\n          \"[['Wednesday', '7AM\\u201311PM'], ['Thursday', '7AM\\u201311PM'], ['Friday', '7AM\\u201311PM'], ['Saturday', '9AM\\u201310PM'], ['Sunday', '9AM\\u201310PM'], ['Monday', '7AM\\u201311PM'], ['Tuesday', '7AM\\u201311PM']]\",\n          \"[['Saturday', '9AM\\u20134:30PM'], ['Sunday', 'Closed'], ['Monday', '8AM\\u20135:30PM'], ['Tuesday', '8AM\\u20135:30PM'], ['Wednesday', '8AM\\u20135:30PM'], ['Thursday', '8AM\\u20135:30PM'], ['Friday', '8AM\\u20135:30PM']]\"\n        ],\n        \"semantic_type\": \"\",\n        \"description\": \"\"\n      }\n    },\n    {\n      \"column\": \"MISC\",\n      \"properties\": {\n        \"dtype\": \"category\",\n        \"num_unique_values\": 3484,\n        \"samples\": [\n          \"{'Service options': ['Outdoor seating', 'Takeout', 'Dine-in', 'Delivery'], 'Popular for': ['Lunch', 'Dinner', 'Solo dining'], 'Accessibility': ['Wheelchair accessible entrance'], 'Offerings': ['Coffee', 'Comfort food', 'Healthy options', \\\"Kids' menu\\\", 'Quick bite', 'Small plates'], 'Dining options': ['Dessert'], 'Amenities': ['Good for kids', 'High chairs'], 'Atmosphere': ['Casual', 'Cozy'], 'Crowd': ['College students', 'Groups', 'Tourists'], 'Payments': ['NFC mobile payments']}\",\n          \"{'Service options': ['Takeout', 'Delivery'], 'Highlights': ['LGBTQ friendly', 'Transgender safespace'], 'Accessibility': ['Wheelchair accessible entrance'], 'Offerings': ['Coffee', 'Vegetarian options'], 'Dining options': ['Lunch', 'Dinner', 'Dessert'], 'Amenities': ['Gender-neutral restroom', 'Good for kids', 'Restroom'], 'Crowd': ['Family-friendly'], 'Payments': ['Debit cards']}\",\n          \"{'Accessibility': ['Wheelchair accessible entrance'], 'Amenities': ['Restroom', 'Restaurant']}\"\n        ],\n        \"semantic_type\": \"\",\n        \"description\": \"\"\n      }\n    },\n    {\n      \"column\": \"state\",\n      \"properties\": {\n        \"dtype\": \"category\",\n        \"num_unique_values\": 436,\n        \"samples\": [\n          \"Open \\u22c5 Closes 2AM \\u22c5 Reopens 7AM\",\n          \"Closes soon \\u22c5 5:30PM \\u22c5 Opens 8:30AM Tue\",\n          \"Closed \\u22c5 Opens 5PM Thu\"\n        ],\n        \"semantic_type\": \"\",\n        \"description\": \"\"\n      }\n    },\n    {\n      \"column\": \"relative_results\",\n      \"properties\": {\n        \"dtype\": \"string\",\n        \"num_unique_values\": 10880,\n        \"samples\": [\n          \"['0x56c897916c907869:0xfe205ad09aed8cd', '0x56c89828485de501:0x1d02626fd59f01e3', '0x56c89787c10200e5:0xc7409e59ca0db14d', '0x56c897da2c0acb89:0xd0d95766d0e986ab', '0x56c8963acbe72e99:0x7024abb299f2e23b']\",\n          \"['0x56c8982a981a25a7:0xbb458de0734cb541', '0x56c8978c14d2d293:0x421cb68f4a069e51', '0x56c8973bdb35e67d:0xfcc1389dda272f94', '0x56c89777c7c31295:0xd2b64efab8a56852', '0x56c897cf87af6dbb:0x891f7d5e81666f16']\",\n          \"['0x50cd17541a4803bf:0x257d7b01a44a3840', '0x50cd1756b4df17a9:0xfa00249a6fbc662d', '0x50cd1753f1e4c4f1:0x3a5c024f625815b3', '0x50cd174cef8de415:0x558ef9a889b4ef3d', '0x50cd10b33e261b4f:0xb2fb66445e2516ae']\"\n        ],\n        \"semantic_type\": \"\",\n        \"description\": \"\"\n      }\n    },\n    {\n      \"column\": \"url\",\n      \"properties\": {\n        \"dtype\": \"string\",\n        \"num_unique_values\": 12689,\n        \"samples\": [\n          \"https://www.google.com/maps/place//data=!4m2!3m1!1s0x56c897dc2d973e47:0xfb52b301227a13e8?authuser=-1&hl=en&gl=us\",\n          \"https://www.google.com/maps/place/Willow+Creek,+AK+99573/data=!4m2!3m1!1s0x56b5c7649a3f5b57:0x57df1205fbfb0c93?authuser=-1&hl=en&gl=us\",\n          \"https://www.google.com/maps/place//data=!4m2!3m1!1s0x56eac4163c0a28b1:0xfd69135b03aae11e?authuser=-1&hl=en&gl=us\"\n        ],\n        \"semantic_type\": \"\",\n        \"description\": \"\"\n      }\n    }\n  ]\n}"
            }
          },
          "metadata": {},
          "execution_count": 18
        }
      ]
    },
    {
      "cell_type": "code",
      "source": [
        "# Merge the two DataFrames\n",
        "df_business_reviews = pd.merge(df, df_meta_business, on='gmap_id', how='inner')\n",
        "df_business_reviews.head()"
      ],
      "metadata": {
        "id": "nivgpjAWfsP8",
        "outputId": "2d3cf475-d18b-464d-a1fa-5301a02f6a7b",
        "colab": {
          "base_uri": "https://localhost:8080/",
          "height": 602
        }
      },
      "execution_count": 19,
      "outputs": [
        {
          "output_type": "execute_result",
          "data": {
            "text/plain": [
              "                  user_id         name_x           time rating  \\\n",
              "0   1.091298048426862e+20     Nicki Gore  1566331951619      5   \n",
              "1   1.091298048426862e+20     Nicki Gore  1566331951619      5   \n",
              "2  1.1324092640575896e+20  Allen Ratliff  1504917982385      5   \n",
              "3  1.1324092640575896e+20  Allen Ratliff  1504917982385      5   \n",
              "4  1.1032915514759202e+20         S Blad  1472858535682      4   \n",
              "\n",
              "                                                text  pics  resp  \\\n",
              "0  We always stay here when in Valdez for silver ...  None  None   \n",
              "1  We always stay here when in Valdez for silver ...  None  None   \n",
              "2  Great campground for the price. Nice hot unlim...  None  None   \n",
              "3  Great campground for the price. Nice hot unlim...  None  None   \n",
              "4  This place is just a few miles outside Valdez,...  None  None   \n",
              "\n",
              "                                 gmap_id     newtime      reivew_datetime  \\\n",
              "0  0x56b646ed2220b77f:0xd8975e316de80952  2019-08-20  2019-08-20 20:12:31   \n",
              "1  0x56b646ed2220b77f:0xd8975e316de80952  2019-08-20  2019-08-20 20:12:31   \n",
              "2  0x56b646ed2220b77f:0xd8975e316de80952  2017-09-09  2017-09-09 00:46:22   \n",
              "3  0x56b646ed2220b77f:0xd8975e316de80952  2017-09-09  2017-09-09 00:46:22   \n",
              "4  0x56b646ed2220b77f:0xd8975e316de80952  2016-09-02  2016-09-02 23:22:15   \n",
              "\n",
              "   ...   longitude                                          category  \\\n",
              "0  ... -146.214552  ['RV park', 'Cabin rental agency', 'Campground']   \n",
              "1  ... -146.214552  ['RV park', 'Cabin rental agency', 'Campground']   \n",
              "2  ... -146.214552  ['RV park', 'Cabin rental agency', 'Campground']   \n",
              "3  ... -146.214552  ['RV park', 'Cabin rental agency', 'Campground']   \n",
              "4  ... -146.214552  ['RV park', 'Cabin rental agency', 'Campground']   \n",
              "\n",
              "  avg_rating num_of_reviews  price  hours MISC  state  \\\n",
              "0        4.5             18    NaN    NaN  NaN    NaN   \n",
              "1        4.5             18    NaN    NaN  NaN    NaN   \n",
              "2        4.5             18    NaN    NaN  NaN    NaN   \n",
              "3        4.5             18    NaN    NaN  NaN    NaN   \n",
              "4        4.5             18    NaN    NaN  NaN    NaN   \n",
              "\n",
              "                                    relative_results  \\\n",
              "0  ['0x56b6445fd9f9e387:0x6dd3d374ef56431a', '0x5...   \n",
              "1  ['0x56b6445fd9f9e387:0x6dd3d374ef56431a', '0x5...   \n",
              "2  ['0x56b6445fd9f9e387:0x6dd3d374ef56431a', '0x5...   \n",
              "3  ['0x56b6445fd9f9e387:0x6dd3d374ef56431a', '0x5...   \n",
              "4  ['0x56b6445fd9f9e387:0x6dd3d374ef56431a', '0x5...   \n",
              "\n",
              "                                                 url  \n",
              "0  https://www.google.com/maps/place//data=!4m2!3...  \n",
              "1  https://www.google.com/maps/place//data=!4m2!3...  \n",
              "2  https://www.google.com/maps/place//data=!4m2!3...  \n",
              "3  https://www.google.com/maps/place//data=!4m2!3...  \n",
              "4  https://www.google.com/maps/place//data=!4m2!3...  \n",
              "\n",
              "[5 rows x 25 columns]"
            ],
            "text/html": [
              "\n",
              "  <div id=\"df-4b797549-d193-47e6-89c4-45edf310ec95\" class=\"colab-df-container\">\n",
              "    <div>\n",
              "<style scoped>\n",
              "    .dataframe tbody tr th:only-of-type {\n",
              "        vertical-align: middle;\n",
              "    }\n",
              "\n",
              "    .dataframe tbody tr th {\n",
              "        vertical-align: top;\n",
              "    }\n",
              "\n",
              "    .dataframe thead th {\n",
              "        text-align: right;\n",
              "    }\n",
              "</style>\n",
              "<table border=\"1\" class=\"dataframe\">\n",
              "  <thead>\n",
              "    <tr style=\"text-align: right;\">\n",
              "      <th></th>\n",
              "      <th>user_id</th>\n",
              "      <th>name_x</th>\n",
              "      <th>time</th>\n",
              "      <th>rating</th>\n",
              "      <th>text</th>\n",
              "      <th>pics</th>\n",
              "      <th>resp</th>\n",
              "      <th>gmap_id</th>\n",
              "      <th>newtime</th>\n",
              "      <th>reivew_datetime</th>\n",
              "      <th>...</th>\n",
              "      <th>longitude</th>\n",
              "      <th>category</th>\n",
              "      <th>avg_rating</th>\n",
              "      <th>num_of_reviews</th>\n",
              "      <th>price</th>\n",
              "      <th>hours</th>\n",
              "      <th>MISC</th>\n",
              "      <th>state</th>\n",
              "      <th>relative_results</th>\n",
              "      <th>url</th>\n",
              "    </tr>\n",
              "  </thead>\n",
              "  <tbody>\n",
              "    <tr>\n",
              "      <th>0</th>\n",
              "      <td>1.091298048426862e+20</td>\n",
              "      <td>Nicki Gore</td>\n",
              "      <td>1566331951619</td>\n",
              "      <td>5</td>\n",
              "      <td>We always stay here when in Valdez for silver ...</td>\n",
              "      <td>None</td>\n",
              "      <td>None</td>\n",
              "      <td>0x56b646ed2220b77f:0xd8975e316de80952</td>\n",
              "      <td>2019-08-20</td>\n",
              "      <td>2019-08-20 20:12:31</td>\n",
              "      <td>...</td>\n",
              "      <td>-146.214552</td>\n",
              "      <td>['RV park', 'Cabin rental agency', 'Campground']</td>\n",
              "      <td>4.5</td>\n",
              "      <td>18</td>\n",
              "      <td>NaN</td>\n",
              "      <td>NaN</td>\n",
              "      <td>NaN</td>\n",
              "      <td>NaN</td>\n",
              "      <td>['0x56b6445fd9f9e387:0x6dd3d374ef56431a', '0x5...</td>\n",
              "      <td>https://www.google.com/maps/place//data=!4m2!3...</td>\n",
              "    </tr>\n",
              "    <tr>\n",
              "      <th>1</th>\n",
              "      <td>1.091298048426862e+20</td>\n",
              "      <td>Nicki Gore</td>\n",
              "      <td>1566331951619</td>\n",
              "      <td>5</td>\n",
              "      <td>We always stay here when in Valdez for silver ...</td>\n",
              "      <td>None</td>\n",
              "      <td>None</td>\n",
              "      <td>0x56b646ed2220b77f:0xd8975e316de80952</td>\n",
              "      <td>2019-08-20</td>\n",
              "      <td>2019-08-20 20:12:31</td>\n",
              "      <td>...</td>\n",
              "      <td>-146.214552</td>\n",
              "      <td>['RV park', 'Cabin rental agency', 'Campground']</td>\n",
              "      <td>4.5</td>\n",
              "      <td>18</td>\n",
              "      <td>NaN</td>\n",
              "      <td>NaN</td>\n",
              "      <td>NaN</td>\n",
              "      <td>NaN</td>\n",
              "      <td>['0x56b6445fd9f9e387:0x6dd3d374ef56431a', '0x5...</td>\n",
              "      <td>https://www.google.com/maps/place//data=!4m2!3...</td>\n",
              "    </tr>\n",
              "    <tr>\n",
              "      <th>2</th>\n",
              "      <td>1.1324092640575896e+20</td>\n",
              "      <td>Allen Ratliff</td>\n",
              "      <td>1504917982385</td>\n",
              "      <td>5</td>\n",
              "      <td>Great campground for the price. Nice hot unlim...</td>\n",
              "      <td>None</td>\n",
              "      <td>None</td>\n",
              "      <td>0x56b646ed2220b77f:0xd8975e316de80952</td>\n",
              "      <td>2017-09-09</td>\n",
              "      <td>2017-09-09 00:46:22</td>\n",
              "      <td>...</td>\n",
              "      <td>-146.214552</td>\n",
              "      <td>['RV park', 'Cabin rental agency', 'Campground']</td>\n",
              "      <td>4.5</td>\n",
              "      <td>18</td>\n",
              "      <td>NaN</td>\n",
              "      <td>NaN</td>\n",
              "      <td>NaN</td>\n",
              "      <td>NaN</td>\n",
              "      <td>['0x56b6445fd9f9e387:0x6dd3d374ef56431a', '0x5...</td>\n",
              "      <td>https://www.google.com/maps/place//data=!4m2!3...</td>\n",
              "    </tr>\n",
              "    <tr>\n",
              "      <th>3</th>\n",
              "      <td>1.1324092640575896e+20</td>\n",
              "      <td>Allen Ratliff</td>\n",
              "      <td>1504917982385</td>\n",
              "      <td>5</td>\n",
              "      <td>Great campground for the price. Nice hot unlim...</td>\n",
              "      <td>None</td>\n",
              "      <td>None</td>\n",
              "      <td>0x56b646ed2220b77f:0xd8975e316de80952</td>\n",
              "      <td>2017-09-09</td>\n",
              "      <td>2017-09-09 00:46:22</td>\n",
              "      <td>...</td>\n",
              "      <td>-146.214552</td>\n",
              "      <td>['RV park', 'Cabin rental agency', 'Campground']</td>\n",
              "      <td>4.5</td>\n",
              "      <td>18</td>\n",
              "      <td>NaN</td>\n",
              "      <td>NaN</td>\n",
              "      <td>NaN</td>\n",
              "      <td>NaN</td>\n",
              "      <td>['0x56b6445fd9f9e387:0x6dd3d374ef56431a', '0x5...</td>\n",
              "      <td>https://www.google.com/maps/place//data=!4m2!3...</td>\n",
              "    </tr>\n",
              "    <tr>\n",
              "      <th>4</th>\n",
              "      <td>1.1032915514759202e+20</td>\n",
              "      <td>S Blad</td>\n",
              "      <td>1472858535682</td>\n",
              "      <td>4</td>\n",
              "      <td>This place is just a few miles outside Valdez,...</td>\n",
              "      <td>None</td>\n",
              "      <td>None</td>\n",
              "      <td>0x56b646ed2220b77f:0xd8975e316de80952</td>\n",
              "      <td>2016-09-02</td>\n",
              "      <td>2016-09-02 23:22:15</td>\n",
              "      <td>...</td>\n",
              "      <td>-146.214552</td>\n",
              "      <td>['RV park', 'Cabin rental agency', 'Campground']</td>\n",
              "      <td>4.5</td>\n",
              "      <td>18</td>\n",
              "      <td>NaN</td>\n",
              "      <td>NaN</td>\n",
              "      <td>NaN</td>\n",
              "      <td>NaN</td>\n",
              "      <td>['0x56b6445fd9f9e387:0x6dd3d374ef56431a', '0x5...</td>\n",
              "      <td>https://www.google.com/maps/place//data=!4m2!3...</td>\n",
              "    </tr>\n",
              "  </tbody>\n",
              "</table>\n",
              "<p>5 rows × 25 columns</p>\n",
              "</div>\n",
              "    <div class=\"colab-df-buttons\">\n",
              "\n",
              "  <div class=\"colab-df-container\">\n",
              "    <button class=\"colab-df-convert\" onclick=\"convertToInteractive('df-4b797549-d193-47e6-89c4-45edf310ec95')\"\n",
              "            title=\"Convert this dataframe to an interactive table.\"\n",
              "            style=\"display:none;\">\n",
              "\n",
              "  <svg xmlns=\"http://www.w3.org/2000/svg\" height=\"24px\" viewBox=\"0 -960 960 960\">\n",
              "    <path d=\"M120-120v-720h720v720H120Zm60-500h600v-160H180v160Zm220 220h160v-160H400v160Zm0 220h160v-160H400v160ZM180-400h160v-160H180v160Zm440 0h160v-160H620v160ZM180-180h160v-160H180v160Zm440 0h160v-160H620v160Z\"/>\n",
              "  </svg>\n",
              "    </button>\n",
              "\n",
              "  <style>\n",
              "    .colab-df-container {\n",
              "      display:flex;\n",
              "      gap: 12px;\n",
              "    }\n",
              "\n",
              "    .colab-df-convert {\n",
              "      background-color: #E8F0FE;\n",
              "      border: none;\n",
              "      border-radius: 50%;\n",
              "      cursor: pointer;\n",
              "      display: none;\n",
              "      fill: #1967D2;\n",
              "      height: 32px;\n",
              "      padding: 0 0 0 0;\n",
              "      width: 32px;\n",
              "    }\n",
              "\n",
              "    .colab-df-convert:hover {\n",
              "      background-color: #E2EBFA;\n",
              "      box-shadow: 0px 1px 2px rgba(60, 64, 67, 0.3), 0px 1px 3px 1px rgba(60, 64, 67, 0.15);\n",
              "      fill: #174EA6;\n",
              "    }\n",
              "\n",
              "    .colab-df-buttons div {\n",
              "      margin-bottom: 4px;\n",
              "    }\n",
              "\n",
              "    [theme=dark] .colab-df-convert {\n",
              "      background-color: #3B4455;\n",
              "      fill: #D2E3FC;\n",
              "    }\n",
              "\n",
              "    [theme=dark] .colab-df-convert:hover {\n",
              "      background-color: #434B5C;\n",
              "      box-shadow: 0px 1px 3px 1px rgba(0, 0, 0, 0.15);\n",
              "      filter: drop-shadow(0px 1px 2px rgba(0, 0, 0, 0.3));\n",
              "      fill: #FFFFFF;\n",
              "    }\n",
              "  </style>\n",
              "\n",
              "    <script>\n",
              "      const buttonEl =\n",
              "        document.querySelector('#df-4b797549-d193-47e6-89c4-45edf310ec95 button.colab-df-convert');\n",
              "      buttonEl.style.display =\n",
              "        google.colab.kernel.accessAllowed ? 'block' : 'none';\n",
              "\n",
              "      async function convertToInteractive(key) {\n",
              "        const element = document.querySelector('#df-4b797549-d193-47e6-89c4-45edf310ec95');\n",
              "        const dataTable =\n",
              "          await google.colab.kernel.invokeFunction('convertToInteractive',\n",
              "                                                    [key], {});\n",
              "        if (!dataTable) return;\n",
              "\n",
              "        const docLinkHtml = 'Like what you see? Visit the ' +\n",
              "          '<a target=\"_blank\" href=https://colab.research.google.com/notebooks/data_table.ipynb>data table notebook</a>'\n",
              "          + ' to learn more about interactive tables.';\n",
              "        element.innerHTML = '';\n",
              "        dataTable['output_type'] = 'display_data';\n",
              "        await google.colab.output.renderOutput(dataTable, element);\n",
              "        const docLink = document.createElement('div');\n",
              "        docLink.innerHTML = docLinkHtml;\n",
              "        element.appendChild(docLink);\n",
              "      }\n",
              "    </script>\n",
              "  </div>\n",
              "\n",
              "\n",
              "    <div id=\"df-37f45c8d-421b-4341-b518-4fdf3316beec\">\n",
              "      <button class=\"colab-df-quickchart\" onclick=\"quickchart('df-37f45c8d-421b-4341-b518-4fdf3316beec')\"\n",
              "                title=\"Suggest charts\"\n",
              "                style=\"display:none;\">\n",
              "\n",
              "<svg xmlns=\"http://www.w3.org/2000/svg\" height=\"24px\"viewBox=\"0 0 24 24\"\n",
              "     width=\"24px\">\n",
              "    <g>\n",
              "        <path d=\"M19 3H5c-1.1 0-2 .9-2 2v14c0 1.1.9 2 2 2h14c1.1 0 2-.9 2-2V5c0-1.1-.9-2-2-2zM9 17H7v-7h2v7zm4 0h-2V7h2v10zm4 0h-2v-4h2v4z\"/>\n",
              "    </g>\n",
              "</svg>\n",
              "      </button>\n",
              "\n",
              "<style>\n",
              "  .colab-df-quickchart {\n",
              "      --bg-color: #E8F0FE;\n",
              "      --fill-color: #1967D2;\n",
              "      --hover-bg-color: #E2EBFA;\n",
              "      --hover-fill-color: #174EA6;\n",
              "      --disabled-fill-color: #AAA;\n",
              "      --disabled-bg-color: #DDD;\n",
              "  }\n",
              "\n",
              "  [theme=dark] .colab-df-quickchart {\n",
              "      --bg-color: #3B4455;\n",
              "      --fill-color: #D2E3FC;\n",
              "      --hover-bg-color: #434B5C;\n",
              "      --hover-fill-color: #FFFFFF;\n",
              "      --disabled-bg-color: #3B4455;\n",
              "      --disabled-fill-color: #666;\n",
              "  }\n",
              "\n",
              "  .colab-df-quickchart {\n",
              "    background-color: var(--bg-color);\n",
              "    border: none;\n",
              "    border-radius: 50%;\n",
              "    cursor: pointer;\n",
              "    display: none;\n",
              "    fill: var(--fill-color);\n",
              "    height: 32px;\n",
              "    padding: 0;\n",
              "    width: 32px;\n",
              "  }\n",
              "\n",
              "  .colab-df-quickchart:hover {\n",
              "    background-color: var(--hover-bg-color);\n",
              "    box-shadow: 0 1px 2px rgba(60, 64, 67, 0.3), 0 1px 3px 1px rgba(60, 64, 67, 0.15);\n",
              "    fill: var(--button-hover-fill-color);\n",
              "  }\n",
              "\n",
              "  .colab-df-quickchart-complete:disabled,\n",
              "  .colab-df-quickchart-complete:disabled:hover {\n",
              "    background-color: var(--disabled-bg-color);\n",
              "    fill: var(--disabled-fill-color);\n",
              "    box-shadow: none;\n",
              "  }\n",
              "\n",
              "  .colab-df-spinner {\n",
              "    border: 2px solid var(--fill-color);\n",
              "    border-color: transparent;\n",
              "    border-bottom-color: var(--fill-color);\n",
              "    animation:\n",
              "      spin 1s steps(1) infinite;\n",
              "  }\n",
              "\n",
              "  @keyframes spin {\n",
              "    0% {\n",
              "      border-color: transparent;\n",
              "      border-bottom-color: var(--fill-color);\n",
              "      border-left-color: var(--fill-color);\n",
              "    }\n",
              "    20% {\n",
              "      border-color: transparent;\n",
              "      border-left-color: var(--fill-color);\n",
              "      border-top-color: var(--fill-color);\n",
              "    }\n",
              "    30% {\n",
              "      border-color: transparent;\n",
              "      border-left-color: var(--fill-color);\n",
              "      border-top-color: var(--fill-color);\n",
              "      border-right-color: var(--fill-color);\n",
              "    }\n",
              "    40% {\n",
              "      border-color: transparent;\n",
              "      border-right-color: var(--fill-color);\n",
              "      border-top-color: var(--fill-color);\n",
              "    }\n",
              "    60% {\n",
              "      border-color: transparent;\n",
              "      border-right-color: var(--fill-color);\n",
              "    }\n",
              "    80% {\n",
              "      border-color: transparent;\n",
              "      border-right-color: var(--fill-color);\n",
              "      border-bottom-color: var(--fill-color);\n",
              "    }\n",
              "    90% {\n",
              "      border-color: transparent;\n",
              "      border-bottom-color: var(--fill-color);\n",
              "    }\n",
              "  }\n",
              "</style>\n",
              "\n",
              "      <script>\n",
              "        async function quickchart(key) {\n",
              "          const quickchartButtonEl =\n",
              "            document.querySelector('#' + key + ' button');\n",
              "          quickchartButtonEl.disabled = true;  // To prevent multiple clicks.\n",
              "          quickchartButtonEl.classList.add('colab-df-spinner');\n",
              "          try {\n",
              "            const charts = await google.colab.kernel.invokeFunction(\n",
              "                'suggestCharts', [key], {});\n",
              "          } catch (error) {\n",
              "            console.error('Error during call to suggestCharts:', error);\n",
              "          }\n",
              "          quickchartButtonEl.classList.remove('colab-df-spinner');\n",
              "          quickchartButtonEl.classList.add('colab-df-quickchart-complete');\n",
              "        }\n",
              "        (() => {\n",
              "          let quickchartButtonEl =\n",
              "            document.querySelector('#df-37f45c8d-421b-4341-b518-4fdf3316beec button');\n",
              "          quickchartButtonEl.style.display =\n",
              "            google.colab.kernel.accessAllowed ? 'block' : 'none';\n",
              "        })();\n",
              "      </script>\n",
              "    </div>\n",
              "\n",
              "    </div>\n",
              "  </div>\n"
            ],
            "application/vnd.google.colaboratory.intrinsic+json": {
              "type": "dataframe",
              "variable_name": "df_business_reviews"
            }
          },
          "metadata": {},
          "execution_count": 19
        }
      ]
    },
    {
      "cell_type": "code",
      "source": [],
      "metadata": {
        "id": "b3RFJE4ZfsMp"
      },
      "execution_count": null,
      "outputs": []
    },
    {
      "cell_type": "markdown",
      "source": [
        "**1.3.1** Determine which workday (day of the week), generates the most reviews (plotting the results in a line chart with workday on averaged submissions)."
      ],
      "metadata": {
        "id": "Z24loqjYqS6P"
      }
    },
    {
      "cell_type": "code",
      "source": [
        "# extract workday\n",
        "df_business_reviews['newtime'] = pd.to_datetime(df_business_reviews['newtime'])\n",
        "df_business_reviews['workday'] = df_business_reviews['newtime'].dt.day_name()\n",
        "df_business_reviews['workday']"
      ],
      "metadata": {
        "id": "244HsBvSfsJT",
        "outputId": "d0074b93-463c-4353-f544-d0f72d882e85",
        "colab": {
          "base_uri": "https://localhost:8080/",
          "height": 458
        }
      },
      "execution_count": 20,
      "outputs": [
        {
          "output_type": "execute_result",
          "data": {
            "text/plain": [
              "0           Tuesday\n",
              "1           Tuesday\n",
              "2          Saturday\n",
              "3          Saturday\n",
              "4            Friday\n",
              "            ...    \n",
              "499275     Thursday\n",
              "499276    Wednesday\n",
              "499277     Thursday\n",
              "499278     Saturday\n",
              "499279       Monday\n",
              "Name: workday, Length: 499280, dtype: object"
            ],
            "text/html": [
              "<div>\n",
              "<style scoped>\n",
              "    .dataframe tbody tr th:only-of-type {\n",
              "        vertical-align: middle;\n",
              "    }\n",
              "\n",
              "    .dataframe tbody tr th {\n",
              "        vertical-align: top;\n",
              "    }\n",
              "\n",
              "    .dataframe thead th {\n",
              "        text-align: right;\n",
              "    }\n",
              "</style>\n",
              "<table border=\"1\" class=\"dataframe\">\n",
              "  <thead>\n",
              "    <tr style=\"text-align: right;\">\n",
              "      <th></th>\n",
              "      <th>workday</th>\n",
              "    </tr>\n",
              "  </thead>\n",
              "  <tbody>\n",
              "    <tr>\n",
              "      <th>0</th>\n",
              "      <td>Tuesday</td>\n",
              "    </tr>\n",
              "    <tr>\n",
              "      <th>1</th>\n",
              "      <td>Tuesday</td>\n",
              "    </tr>\n",
              "    <tr>\n",
              "      <th>2</th>\n",
              "      <td>Saturday</td>\n",
              "    </tr>\n",
              "    <tr>\n",
              "      <th>3</th>\n",
              "      <td>Saturday</td>\n",
              "    </tr>\n",
              "    <tr>\n",
              "      <th>4</th>\n",
              "      <td>Friday</td>\n",
              "    </tr>\n",
              "    <tr>\n",
              "      <th>...</th>\n",
              "      <td>...</td>\n",
              "    </tr>\n",
              "    <tr>\n",
              "      <th>499275</th>\n",
              "      <td>Thursday</td>\n",
              "    </tr>\n",
              "    <tr>\n",
              "      <th>499276</th>\n",
              "      <td>Wednesday</td>\n",
              "    </tr>\n",
              "    <tr>\n",
              "      <th>499277</th>\n",
              "      <td>Thursday</td>\n",
              "    </tr>\n",
              "    <tr>\n",
              "      <th>499278</th>\n",
              "      <td>Saturday</td>\n",
              "    </tr>\n",
              "    <tr>\n",
              "      <th>499279</th>\n",
              "      <td>Monday</td>\n",
              "    </tr>\n",
              "  </tbody>\n",
              "</table>\n",
              "<p>499280 rows × 1 columns</p>\n",
              "</div><br><label><b>dtype:</b> object</label>"
            ]
          },
          "metadata": {},
          "execution_count": 20
        }
      ]
    },
    {
      "cell_type": "code",
      "source": [],
      "metadata": {
        "id": "ReMjpClnftDY"
      },
      "execution_count": null,
      "outputs": []
    },
    {
      "cell_type": "code",
      "source": [],
      "metadata": {
        "id": "Pu6jAF6Wft6s"
      },
      "execution_count": null,
      "outputs": []
    },
    {
      "cell_type": "markdown",
      "source": [
        "### Answer 1.4"
      ],
      "metadata": {
        "id": "JmwCYqotfufx"
      }
    },
    {
      "cell_type": "markdown",
      "source": [
        "**Question:**\n",
        "\n",
        "For the reviews on each of the submissions, work on all the review content and find out the top 30 most common words; Also generate separate word cloud visualizations for different years by grouping the reviews by review year and write down the insights in the markdown cell. Please also include your findings and visualizations in the report."
      ],
      "metadata": {
        "id": "WGTlIe-gfy8t"
      }
    },
    {
      "cell_type": "code",
      "source": [],
      "metadata": {
        "id": "PrdMxMGQftAf"
      },
      "execution_count": null,
      "outputs": []
    },
    {
      "cell_type": "code",
      "source": [],
      "metadata": {
        "id": "9xT33vjVf5UG"
      },
      "execution_count": null,
      "outputs": []
    },
    {
      "cell_type": "code",
      "source": [],
      "metadata": {
        "id": "XcHGQ1bvf5RC"
      },
      "execution_count": null,
      "outputs": []
    },
    {
      "cell_type": "code",
      "source": [],
      "metadata": {
        "id": "-ByM8FrQf5No"
      },
      "execution_count": null,
      "outputs": []
    },
    {
      "cell_type": "code",
      "source": [],
      "metadata": {
        "id": "dlA2ax8-f5KT"
      },
      "execution_count": null,
      "outputs": []
    },
    {
      "cell_type": "code",
      "source": [],
      "metadata": {
        "id": "g1PsWxP5f6M2"
      },
      "execution_count": null,
      "outputs": []
    },
    {
      "cell_type": "markdown",
      "source": [
        "### Answer 1.5"
      ],
      "metadata": {
        "id": "L83Nns1df6vY"
      }
    },
    {
      "cell_type": "markdown",
      "source": [
        "**Question:**\n",
        "\n",
        "Let’s do some analysis on the business_name and the reviewers. Determine the number of unique reviewers of business and its categories to identify which business / category has attracted the most reviewers (find out the highest distinct count of reviewers on business / category level). Also, analyze the temporal patterns of when reviewers submitted their reviews (you could leverage the workday, year, month, or hours to conduct the analysis) and share your findings and insights in the markdown cell. Please also include your findings and insights (visualizations) in the report."
      ],
      "metadata": {
        "id": "dR_5G8Zaf8s_"
      }
    },
    {
      "cell_type": "code",
      "source": [],
      "metadata": {
        "id": "CPtSBKG_f5HI"
      },
      "execution_count": null,
      "outputs": []
    },
    {
      "cell_type": "code",
      "source": [],
      "metadata": {
        "id": "HnPCuzHYgGcQ"
      },
      "execution_count": null,
      "outputs": []
    },
    {
      "cell_type": "code",
      "source": [],
      "metadata": {
        "id": "PfBldweogGQH"
      },
      "execution_count": null,
      "outputs": []
    },
    {
      "cell_type": "code",
      "source": [],
      "metadata": {
        "id": "aNQynUfagGMq"
      },
      "execution_count": null,
      "outputs": []
    },
    {
      "cell_type": "code",
      "source": [],
      "metadata": {
        "id": "RBuP3UukgGJg"
      },
      "execution_count": null,
      "outputs": []
    },
    {
      "cell_type": "code",
      "source": [],
      "metadata": {
        "id": "oLYrjbA-gGGU"
      },
      "execution_count": null,
      "outputs": []
    },
    {
      "cell_type": "markdown",
      "source": [
        "### Answer 1.6"
      ],
      "metadata": {
        "id": "_L0T0ZnpgNJx"
      }
    },
    {
      "cell_type": "markdown",
      "source": [
        "**Question:**\n",
        "\n",
        "As the data scientist, you are required to build a recommendation for the business by using reviews, ratings, and its categories. In this task, you need to:\n",
        "> **1.6.1** Write down your strategy of building the recommendation on business for customers in the markdown cell. You could create your own strategy or leverage the provided one here KNN on collaborative filtering. Please also include your strategy details in the report.\n",
        "\n",
        "> **1.6.2** Could you please try to implement the strategy (code) you have written down for the recommendation system? Please give detailed explanation of your code and the logic in the comments and also interpret the recommendations with examples in the markdown cell. Please also include your implementation details and results in the report."
      ],
      "metadata": {
        "id": "Bgiy9TFlgHa-"
      }
    },
    {
      "cell_type": "code",
      "source": [],
      "metadata": {
        "id": "0p4_Ct_9gGDJ"
      },
      "execution_count": null,
      "outputs": []
    },
    {
      "cell_type": "code",
      "source": [],
      "metadata": {
        "id": "AH1xdqusgnoQ"
      },
      "execution_count": null,
      "outputs": []
    },
    {
      "cell_type": "code",
      "source": [],
      "metadata": {
        "id": "jq9xjJZjgnlc"
      },
      "execution_count": null,
      "outputs": []
    },
    {
      "cell_type": "code",
      "source": [],
      "metadata": {
        "id": "XMfQs_hvgnih"
      },
      "execution_count": null,
      "outputs": []
    },
    {
      "cell_type": "code",
      "source": [],
      "metadata": {
        "id": "DRmVdgzWgnfY"
      },
      "execution_count": null,
      "outputs": []
    },
    {
      "cell_type": "code",
      "source": [],
      "metadata": {
        "id": "pfCpLmUBgoDb"
      },
      "execution_count": null,
      "outputs": []
    },
    {
      "cell_type": "markdown",
      "source": [
        "### Answer 1.7"
      ],
      "metadata": {
        "id": "jqhh3jyMgpQW"
      }
    },
    {
      "cell_type": "markdown",
      "source": [
        "**Question:**\n",
        "\n",
        "Continue work on the review data you have now, for each of the submissions of the review, you will need to explore the rating with other information:\n",
        "> **1.7.1** Build visualization to explore the relationships of the rating and business categories. Please write down your insights in the markdown cell and also include your insights and visualizations in the report.\n",
        "\n",
        "> **1.7.2** Let’s focus on the lower ratings now. Could you please find out the actual reviews on lower ratings and analyze on the reason? (You could use the common used words in lower rating reviews or design your own strategy with reasonable logic). Please also include your analysis details in the report."
      ],
      "metadata": {
        "id": "WDvPwwCvgwvI"
      }
    },
    {
      "cell_type": "code",
      "source": [],
      "metadata": {
        "id": "LmgYpR8lgncf"
      },
      "execution_count": null,
      "outputs": []
    },
    {
      "cell_type": "code",
      "source": [],
      "metadata": {
        "id": "D600awe5hANJ"
      },
      "execution_count": null,
      "outputs": []
    },
    {
      "cell_type": "code",
      "source": [],
      "metadata": {
        "id": "xtM9SUn6hAKE"
      },
      "execution_count": null,
      "outputs": []
    },
    {
      "cell_type": "code",
      "source": [],
      "metadata": {
        "id": "dFK84vj8hAGk"
      },
      "execution_count": null,
      "outputs": []
    },
    {
      "cell_type": "code",
      "source": [],
      "metadata": {
        "id": "LifwR3wthADB"
      },
      "execution_count": null,
      "outputs": []
    },
    {
      "cell_type": "code",
      "source": [],
      "metadata": {
        "id": "6hE_livJg__n"
      },
      "execution_count": null,
      "outputs": []
    },
    {
      "cell_type": "code",
      "source": [],
      "metadata": {
        "id": "UU8Qdv9lhA5S"
      },
      "execution_count": null,
      "outputs": []
    },
    {
      "cell_type": "markdown",
      "source": [
        "### Answer 1.8"
      ],
      "metadata": {
        "id": "LhrECAPihBSf"
      }
    },
    {
      "cell_type": "markdown",
      "source": [
        "**Question:**\n",
        "\n",
        "Continue to work on the submission of the reviews, we would like to focus on the reviewer level with all the reviewed business history, but before we actually conduct the programming, we will need to finish few questions for exploration:\n",
        "> **1.8.1** Check on the reviewer level reviewed business, sort the review of each business by the review time (newtime column) and then save the business name into the list variable user_business_list for each reviewer.\n",
        "\n",
        "> **1.8.2** Check on the user_business_list, could you observe some repeated business names for the same user? If so, could you remove those duplicated business names under same user? Please print out the number of element in the user_business_list for each reviewer before removing the duplicated business name and after removing the duplicated business name.\n",
        "\n",
        "> **1.8.3** Check on the user_business_list, could you find the user similarities according to their past reviewed business ? You are free to design your own strategy and give sufficient explanation in markdown cell and code implementation together. Please also include your strategy details and implementation in the report.\n",
        "\n",
        "_Hint: you might consider to use encoding for each of the business names and then calculate the difference of the users._"
      ],
      "metadata": {
        "id": "Y8nZH3f8hG1P"
      }
    },
    {
      "cell_type": "code",
      "source": [],
      "metadata": {
        "id": "2unoAhZjg_hI"
      },
      "execution_count": null,
      "outputs": []
    },
    {
      "cell_type": "code",
      "source": [],
      "metadata": {
        "id": "1GUqsdF1heKP"
      },
      "execution_count": null,
      "outputs": []
    },
    {
      "cell_type": "code",
      "source": [],
      "metadata": {
        "id": "-jHI1-6DheHd"
      },
      "execution_count": null,
      "outputs": []
    },
    {
      "cell_type": "code",
      "source": [],
      "metadata": {
        "id": "8iNr3IpLheEu"
      },
      "execution_count": null,
      "outputs": []
    },
    {
      "cell_type": "code",
      "source": [],
      "metadata": {
        "id": "2d_kklRRheCA"
      },
      "execution_count": null,
      "outputs": []
    },
    {
      "cell_type": "code",
      "source": [],
      "metadata": {
        "id": "crh_fX60hd_C"
      },
      "execution_count": null,
      "outputs": []
    },
    {
      "cell_type": "code",
      "source": [],
      "metadata": {
        "id": "oGck5_Bkhd79"
      },
      "execution_count": null,
      "outputs": []
    },
    {
      "cell_type": "code",
      "source": [],
      "metadata": {
        "id": "UMLtPO4Khd3y"
      },
      "execution_count": null,
      "outputs": []
    },
    {
      "cell_type": "code",
      "source": [],
      "metadata": {
        "id": "emTibhV1he5F"
      },
      "execution_count": null,
      "outputs": []
    },
    {
      "cell_type": "markdown",
      "source": [
        "# Part II: **Submission Prediction**"
      ],
      "metadata": {
        "id": "r9COWFROhfau"
      }
    },
    {
      "cell_type": "markdown",
      "source": [
        "### Answer 2.1"
      ],
      "metadata": {
        "id": "GVIyUwkehtPH"
      }
    },
    {
      "cell_type": "markdown",
      "source": [
        "**Question:**\n",
        "\n",
        "In this question, we will focus only on two information: total reviews per day with review time (newtime from the dataframe) to form the review volume time series. You are required to explore the review time series. There are some days not available in the review time series. Please add those days into the review time series with default number of review with the mean value of the number of review per day in the whole data (without any filtering on reviews). After that, decompose the submission review time series with addictive mode and analyses on the results to find if there is any seasonality pattern (you could leverage the M05A material from lab session with default setting in seasonal_decompose function). Please also include your analysis details and implementation in the report."
      ],
      "metadata": {
        "id": "bLDtSZP0h13P"
      }
    },
    {
      "cell_type": "code",
      "source": [],
      "metadata": {
        "id": "vYaqA5b7h1LD"
      },
      "execution_count": null,
      "outputs": []
    },
    {
      "cell_type": "code",
      "source": [],
      "metadata": {
        "id": "KEi7rra8hd0W"
      },
      "execution_count": null,
      "outputs": []
    },
    {
      "cell_type": "code",
      "source": [],
      "metadata": {
        "id": "fzmZRNi5h-GG"
      },
      "execution_count": null,
      "outputs": []
    },
    {
      "cell_type": "code",
      "source": [],
      "metadata": {
        "id": "xPGNXv9Lh-DA"
      },
      "execution_count": null,
      "outputs": []
    },
    {
      "cell_type": "code",
      "source": [],
      "metadata": {
        "id": "Wl12wn3sh9_6"
      },
      "execution_count": null,
      "outputs": []
    },
    {
      "cell_type": "code",
      "source": [],
      "metadata": {
        "id": "ko7Y28m4h980"
      },
      "execution_count": null,
      "outputs": []
    },
    {
      "cell_type": "markdown",
      "source": [
        "### Answer 2.2"
      ],
      "metadata": {
        "id": "zxpNCACMh_jz"
      }
    },
    {
      "cell_type": "markdown",
      "source": [
        "**Question:**\n",
        "\n",
        "We will try to use time series model ARIMA for forecasting the future. You need to find the best model with different parameters on ARIMA model. The parameter range for p,d,q are all from [0, 1, 2]. In total, you need to find out the best model with lowest Mean Absolute Error from 27 choices (you might need to split the time series to train and test with yourself with grid search according to the M05B material). Also, you are required to discuss with your group member on exploring the deep learning time series forecasting methods such as LSTM and RNN. Please write down your discussion around the necessary data wrangling and modeling steps (steps on how to achieve, not actual code). Also please give the reference of the deep learning time series forecasting models you are using. Please also include your discussion details and implementation in the report."
      ],
      "metadata": {
        "id": "at7fTirciEFf"
      }
    },
    {
      "cell_type": "code",
      "source": [],
      "metadata": {
        "id": "laNNt4H2iNJ9"
      },
      "execution_count": null,
      "outputs": []
    },
    {
      "cell_type": "code",
      "source": [],
      "metadata": {
        "id": "qX1cmEVFiNG4"
      },
      "execution_count": null,
      "outputs": []
    },
    {
      "cell_type": "code",
      "source": [],
      "metadata": {
        "id": "kq76jriHiNDs"
      },
      "execution_count": null,
      "outputs": []
    },
    {
      "cell_type": "code",
      "source": [],
      "metadata": {
        "id": "EoCHfEM8iNAq"
      },
      "execution_count": null,
      "outputs": []
    },
    {
      "cell_type": "code",
      "source": [],
      "metadata": {
        "id": "Yqbx99gKiM-F"
      },
      "execution_count": null,
      "outputs": []
    },
    {
      "cell_type": "code",
      "source": [],
      "metadata": {
        "id": "nWR5CdBMiM7H"
      },
      "execution_count": null,
      "outputs": []
    },
    {
      "cell_type": "markdown",
      "source": [
        "**Question:**\n",
        "\n",
        "In this question, you are provided with the PDF file by Universities Australia via Indigenous Strategy annual report. You are required to critically analyze this report using your data science skills.\n",
        "> **Data Extraction** Carefully review the PDF and identify all relevant quantitative data, tables, and figures that can be extracted or digitized; Present any extracted data in a structured format (e.g., CSV, Excel table, or DataFrame);\n",
        "\n",
        "> **Data Analysis** Utilize your data analytics skills to discover common patterns or trends from the report; Where possible, compare trends over multiple years, between institutions, or across different Indigenous strategy metrics.\n",
        "\n",
        "> **Insights** Provide a clear and concise summary of the main patterns, trends, or correlations discovered from your analysis; Interpret what these findings reveal about the progress and challenges of Indigenous strategies in Australian universities.\n",
        "\n",
        "_You may use any data analytics tools or libraries you are comfortable with. All steps, from extraction to insights, should be clearly documented in your SIT742Task2Report.pdf, and source code should be in SIT742Task2Code.ipynb._"
      ],
      "metadata": {
        "id": "84Pr3udziN9D"
      }
    },
    {
      "cell_type": "code",
      "source": [],
      "metadata": {
        "id": "3YT0t8Ysh95z"
      },
      "execution_count": null,
      "outputs": []
    },
    {
      "cell_type": "code",
      "source": [],
      "metadata": {
        "id": "YEsRlDnGjH08"
      },
      "execution_count": null,
      "outputs": []
    },
    {
      "cell_type": "code",
      "source": [],
      "metadata": {
        "id": "5kLEWGI8jHx3"
      },
      "execution_count": null,
      "outputs": []
    },
    {
      "cell_type": "code",
      "source": [],
      "metadata": {
        "id": "vPd31AwRjHvi"
      },
      "execution_count": null,
      "outputs": []
    },
    {
      "cell_type": "code",
      "source": [],
      "metadata": {
        "id": "OJ-NB_hxjHr8"
      },
      "execution_count": null,
      "outputs": []
    },
    {
      "cell_type": "code",
      "source": [],
      "metadata": {
        "id": "ukjZ54sgjHpK"
      },
      "execution_count": null,
      "outputs": []
    },
    {
      "cell_type": "code",
      "source": [],
      "metadata": {
        "id": "KIfmqAgjjHmD"
      },
      "execution_count": null,
      "outputs": []
    },
    {
      "cell_type": "code",
      "source": [],
      "metadata": {
        "id": "q9OQr7XrjHix"
      },
      "execution_count": null,
      "outputs": []
    },
    {
      "cell_type": "markdown",
      "source": [
        "# Part III: **Optional: Questionnaire on Integrating Indigenous Perspectives into DS Education**"
      ],
      "metadata": {
        "id": "n2Rrq-MjjGY_"
      }
    },
    {
      "cell_type": "markdown",
      "source": [
        "**Note:** This part of the assignment is **optional** and carries **no mark**.\n",
        "\n",
        "In modern data-driven environments, collaboration often involves individuals from diverse cultural and social backgrounds. As part of our ongoing efforts to develop inclusive and socially responsible unit, we are exploring ways to meaningfully integrate Australian Indigenous perspectives into Data Science education, specifically in the context of the unit SIT742: Modern Data Science. We invite you to share your thoughts and feedback on this important topic. Your input will help us improve the quality and inclusiveness of both the unit and its associated learning materials.\n",
        "If you are willing to assist, please consider completing a short questionnaire titled Integrating Indigenous Perspectives into Data Science Education, which can be accessed at the following link:\n",
        "- [POST-Survey Questionnaire](https://researchsurveys.deakin.edu.au/jfe/form/SV_3dZpMmkbdjsKkaq)\n",
        "\n",
        "(Please interpret its references to “ICT” as also including Data Science.)"
      ],
      "metadata": {
        "id": "qSDq3UjxjGV1"
      }
    },
    {
      "cell_type": "markdown",
      "source": [
        "#### Related Information\n",
        "**Human Research Ethics Application ID:** 2025/HE000518 Approval Date: 28/04/2025 Estimated Time to Complete: Approximately 10 minutes\n",
        "\n",
        "**Confidentiality:** All responses are strictly confidential and will be used solely for research and educational improvement purposes.\n",
        "\n",
        "**University Policy** Deakin Indigenous Strategy 2023-2028"
      ],
      "metadata": {
        "id": "ypcSFUTjjGTX"
      }
    },
    {
      "cell_type": "code",
      "source": [],
      "metadata": {
        "id": "D0Th5XH-lliC"
      },
      "execution_count": null,
      "outputs": []
    }
  ]
}